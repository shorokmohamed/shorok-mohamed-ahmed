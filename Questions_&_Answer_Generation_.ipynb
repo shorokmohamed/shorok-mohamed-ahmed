{
  "nbformat": 4,
  "nbformat_minor": 0,
  "metadata": {
    "colab": {
      "provenance": [],
      "collapsed_sections": [],
      "authorship_tag": "ABX9TyM85I/7OkQ6m0JU7dg3j7L3",
      "include_colab_link": true
    },
    "kernelspec": {
      "name": "python3",
      "display_name": "Python 3"
    },
    "language_info": {
      "name": "python"
    },
    "accelerator": "GPU"
  },
  "cells": [
    {
      "cell_type": "markdown",
      "metadata": {
        "id": "view-in-github",
        "colab_type": "text"
      },
      "source": [
        "<a href=\"https://colab.research.google.com/github/shorokmohamed/shorok-mohamed-ahmed/blob/main/Questions_%26_Answer_Generation_.ipynb\" target=\"_parent\"><img src=\"https://colab.research.google.com/assets/colab-badge.svg\" alt=\"Open In Colab\"/></a>"
      ]
    },
    {
      "cell_type": "markdown",
      "source": [],
      "metadata": {
        "id": "V7egbtzZEXVZ"
      }
    },
    {
      "cell_type": "code",
      "source": [
        "!pip install git+https://github.com/boudinfl/pke.git\n",
        "!python -m spacy download en_core_web_sm"
      ],
      "metadata": {
        "colab": {
          "base_uri": "https://localhost:8080/"
        },
        "id": "rMFWMEJvvSay",
        "outputId": "42644aee-0a3d-469f-ae51-ea5db03ba03b"
      },
      "execution_count": 1,
      "outputs": [
        {
          "output_type": "stream",
          "name": "stdout",
          "text": [
            "Looking in indexes: https://pypi.org/simple, https://us-python.pkg.dev/colab-wheels/public/simple/\n",
            "Collecting git+https://github.com/boudinfl/pke.git\n",
            "  Cloning https://github.com/boudinfl/pke.git to /tmp/pip-req-build-m3c_nayv\n",
            "  Running command git clone --filter=blob:none --quiet https://github.com/boudinfl/pke.git /tmp/pip-req-build-m3c_nayv\n",
            "  Resolved https://github.com/boudinfl/pke.git to commit 5af1f817e0211c33ac3f90e1e86bb5c1283448e8\n",
            "  Preparing metadata (setup.py) ... \u001b[?25l\u001b[?25hdone\n",
            "Requirement already satisfied: nltk in /usr/local/lib/python3.7/dist-packages (from pke==2.0.0) (3.7)\n",
            "Requirement already satisfied: networkx in /usr/local/lib/python3.7/dist-packages (from pke==2.0.0) (2.6.3)\n",
            "Requirement already satisfied: numpy in /usr/local/lib/python3.7/dist-packages (from pke==2.0.0) (1.21.6)\n",
            "Requirement already satisfied: scipy in /usr/local/lib/python3.7/dist-packages (from pke==2.0.0) (1.7.3)\n",
            "Requirement already satisfied: sklearn in /usr/local/lib/python3.7/dist-packages (from pke==2.0.0) (0.0)\n",
            "Requirement already satisfied: unidecode in /usr/local/lib/python3.7/dist-packages (from pke==2.0.0) (1.3.6)\n",
            "Requirement already satisfied: future in /usr/local/lib/python3.7/dist-packages (from pke==2.0.0) (0.16.0)\n",
            "Requirement already satisfied: joblib in /usr/local/lib/python3.7/dist-packages (from pke==2.0.0) (1.1.0)\n",
            "Requirement already satisfied: spacy>=3.2.3 in /usr/local/lib/python3.7/dist-packages (from pke==2.0.0) (3.4.1)\n",
            "Requirement already satisfied: requests<3.0.0,>=2.13.0 in /usr/local/lib/python3.7/dist-packages (from spacy>=3.2.3->pke==2.0.0) (2.28.1)\n",
            "Requirement already satisfied: murmurhash<1.1.0,>=0.28.0 in /usr/local/lib/python3.7/dist-packages (from spacy>=3.2.3->pke==2.0.0) (1.0.8)\n",
            "Requirement already satisfied: packaging>=20.0 in /usr/local/lib/python3.7/dist-packages (from spacy>=3.2.3->pke==2.0.0) (21.3)\n",
            "Requirement already satisfied: spacy-loggers<2.0.0,>=1.0.0 in /usr/local/lib/python3.7/dist-packages (from spacy>=3.2.3->pke==2.0.0) (1.0.3)\n",
            "Requirement already satisfied: tqdm<5.0.0,>=4.38.0 in /usr/local/lib/python3.7/dist-packages (from spacy>=3.2.3->pke==2.0.0) (4.64.1)\n",
            "Requirement already satisfied: srsly<3.0.0,>=2.4.3 in /usr/local/lib/python3.7/dist-packages (from spacy>=3.2.3->pke==2.0.0) (2.4.4)\n",
            "Requirement already satisfied: cymem<2.1.0,>=2.0.2 in /usr/local/lib/python3.7/dist-packages (from spacy>=3.2.3->pke==2.0.0) (2.0.6)\n",
            "Requirement already satisfied: pydantic!=1.8,!=1.8.1,<1.10.0,>=1.7.4 in /usr/local/lib/python3.7/dist-packages (from spacy>=3.2.3->pke==2.0.0) (1.9.2)\n",
            "Requirement already satisfied: pathy>=0.3.5 in /usr/local/lib/python3.7/dist-packages (from spacy>=3.2.3->pke==2.0.0) (0.6.2)\n",
            "Requirement already satisfied: catalogue<2.1.0,>=2.0.6 in /usr/local/lib/python3.7/dist-packages (from spacy>=3.2.3->pke==2.0.0) (2.0.8)\n",
            "Requirement already satisfied: preshed<3.1.0,>=3.0.2 in /usr/local/lib/python3.7/dist-packages (from spacy>=3.2.3->pke==2.0.0) (3.0.7)\n",
            "Requirement already satisfied: spacy-legacy<3.1.0,>=3.0.9 in /usr/local/lib/python3.7/dist-packages (from spacy>=3.2.3->pke==2.0.0) (3.0.10)\n",
            "Requirement already satisfied: typing-extensions<4.2.0,>=3.7.4 in /usr/local/lib/python3.7/dist-packages (from spacy>=3.2.3->pke==2.0.0) (4.1.1)\n",
            "Requirement already satisfied: setuptools in /usr/local/lib/python3.7/dist-packages (from spacy>=3.2.3->pke==2.0.0) (57.4.0)\n",
            "Requirement already satisfied: wasabi<1.1.0,>=0.9.1 in /usr/local/lib/python3.7/dist-packages (from spacy>=3.2.3->pke==2.0.0) (0.10.1)\n",
            "Requirement already satisfied: jinja2 in /usr/local/lib/python3.7/dist-packages (from spacy>=3.2.3->pke==2.0.0) (2.11.3)\n",
            "Requirement already satisfied: typer<0.5.0,>=0.3.0 in /usr/local/lib/python3.7/dist-packages (from spacy>=3.2.3->pke==2.0.0) (0.4.2)\n",
            "Requirement already satisfied: thinc<8.2.0,>=8.1.0 in /usr/local/lib/python3.7/dist-packages (from spacy>=3.2.3->pke==2.0.0) (8.1.0)\n",
            "Requirement already satisfied: langcodes<4.0.0,>=3.2.0 in /usr/local/lib/python3.7/dist-packages (from spacy>=3.2.3->pke==2.0.0) (3.3.0)\n",
            "Requirement already satisfied: regex>=2021.8.3 in /usr/local/lib/python3.7/dist-packages (from nltk->pke==2.0.0) (2022.6.2)\n",
            "Requirement already satisfied: click in /usr/local/lib/python3.7/dist-packages (from nltk->pke==2.0.0) (7.1.2)\n",
            "Requirement already satisfied: scikit-learn in /usr/local/lib/python3.7/dist-packages (from sklearn->pke==2.0.0) (1.0.2)\n",
            "Requirement already satisfied: zipp>=0.5 in /usr/local/lib/python3.7/dist-packages (from catalogue<2.1.0,>=2.0.6->spacy>=3.2.3->pke==2.0.0) (3.8.1)\n",
            "Requirement already satisfied: pyparsing!=3.0.5,>=2.0.2 in /usr/local/lib/python3.7/dist-packages (from packaging>=20.0->spacy>=3.2.3->pke==2.0.0) (3.0.9)\n",
            "Requirement already satisfied: smart-open<6.0.0,>=5.2.1 in /usr/local/lib/python3.7/dist-packages (from pathy>=0.3.5->spacy>=3.2.3->pke==2.0.0) (5.2.1)\n",
            "Requirement already satisfied: idna<4,>=2.5 in /usr/local/lib/python3.7/dist-packages (from requests<3.0.0,>=2.13.0->spacy>=3.2.3->pke==2.0.0) (2.10)\n",
            "Requirement already satisfied: charset-normalizer<3,>=2 in /usr/local/lib/python3.7/dist-packages (from requests<3.0.0,>=2.13.0->spacy>=3.2.3->pke==2.0.0) (2.1.1)\n",
            "Requirement already satisfied: certifi>=2017.4.17 in /usr/local/lib/python3.7/dist-packages (from requests<3.0.0,>=2.13.0->spacy>=3.2.3->pke==2.0.0) (2022.6.15)\n",
            "Requirement already satisfied: urllib3<1.27,>=1.21.1 in /usr/local/lib/python3.7/dist-packages (from requests<3.0.0,>=2.13.0->spacy>=3.2.3->pke==2.0.0) (1.26.12)\n",
            "Requirement already satisfied: blis<0.8.0,>=0.7.8 in /usr/local/lib/python3.7/dist-packages (from thinc<8.2.0,>=8.1.0->spacy>=3.2.3->pke==2.0.0) (0.7.8)\n",
            "Requirement already satisfied: MarkupSafe>=0.23 in /usr/local/lib/python3.7/dist-packages (from jinja2->spacy>=3.2.3->pke==2.0.0) (2.0.1)\n",
            "Requirement already satisfied: threadpoolctl>=2.0.0 in /usr/local/lib/python3.7/dist-packages (from scikit-learn->sklearn->pke==2.0.0) (3.1.0)\n",
            "\u001b[33mWARNING: Running pip as the 'root' user can result in broken permissions and conflicting behaviour with the system package manager. It is recommended to use a virtual environment instead: https://pip.pypa.io/warnings/venv\u001b[0m\u001b[33m\n",
            "\u001b[0mLooking in indexes: https://pypi.org/simple, https://us-python.pkg.dev/colab-wheels/public/simple/\n",
            "Collecting en-core-web-sm==3.4.0\n",
            "  Downloading https://github.com/explosion/spacy-models/releases/download/en_core_web_sm-3.4.0/en_core_web_sm-3.4.0-py3-none-any.whl (12.8 MB)\n",
            "\u001b[2K     \u001b[90m━━━━━━━━━━━━━━━━━━━━━━━━━━━━━━━━━━━━━━━━\u001b[0m \u001b[32m12.8/12.8 MB\u001b[0m \u001b[31m13.8 MB/s\u001b[0m eta \u001b[36m0:00:00\u001b[0m\n",
            "\u001b[?25hRequirement already satisfied: spacy<3.5.0,>=3.4.0 in /usr/local/lib/python3.7/dist-packages (from en-core-web-sm==3.4.0) (3.4.1)\n",
            "Requirement already satisfied: typer<0.5.0,>=0.3.0 in /usr/local/lib/python3.7/dist-packages (from spacy<3.5.0,>=3.4.0->en-core-web-sm==3.4.0) (0.4.2)\n",
            "Requirement already satisfied: packaging>=20.0 in /usr/local/lib/python3.7/dist-packages (from spacy<3.5.0,>=3.4.0->en-core-web-sm==3.4.0) (21.3)\n",
            "Requirement already satisfied: jinja2 in /usr/local/lib/python3.7/dist-packages (from spacy<3.5.0,>=3.4.0->en-core-web-sm==3.4.0) (2.11.3)\n",
            "Requirement already satisfied: thinc<8.2.0,>=8.1.0 in /usr/local/lib/python3.7/dist-packages (from spacy<3.5.0,>=3.4.0->en-core-web-sm==3.4.0) (8.1.0)\n",
            "Requirement already satisfied: murmurhash<1.1.0,>=0.28.0 in /usr/local/lib/python3.7/dist-packages (from spacy<3.5.0,>=3.4.0->en-core-web-sm==3.4.0) (1.0.8)\n",
            "Requirement already satisfied: setuptools in /usr/local/lib/python3.7/dist-packages (from spacy<3.5.0,>=3.4.0->en-core-web-sm==3.4.0) (57.4.0)\n",
            "Requirement already satisfied: wasabi<1.1.0,>=0.9.1 in /usr/local/lib/python3.7/dist-packages (from spacy<3.5.0,>=3.4.0->en-core-web-sm==3.4.0) (0.10.1)\n",
            "Requirement already satisfied: cymem<2.1.0,>=2.0.2 in /usr/local/lib/python3.7/dist-packages (from spacy<3.5.0,>=3.4.0->en-core-web-sm==3.4.0) (2.0.6)\n",
            "Requirement already satisfied: catalogue<2.1.0,>=2.0.6 in /usr/local/lib/python3.7/dist-packages (from spacy<3.5.0,>=3.4.0->en-core-web-sm==3.4.0) (2.0.8)\n",
            "Requirement already satisfied: tqdm<5.0.0,>=4.38.0 in /usr/local/lib/python3.7/dist-packages (from spacy<3.5.0,>=3.4.0->en-core-web-sm==3.4.0) (4.64.1)\n",
            "Requirement already satisfied: pathy>=0.3.5 in /usr/local/lib/python3.7/dist-packages (from spacy<3.5.0,>=3.4.0->en-core-web-sm==3.4.0) (0.6.2)\n",
            "Requirement already satisfied: langcodes<4.0.0,>=3.2.0 in /usr/local/lib/python3.7/dist-packages (from spacy<3.5.0,>=3.4.0->en-core-web-sm==3.4.0) (3.3.0)\n",
            "Requirement already satisfied: requests<3.0.0,>=2.13.0 in /usr/local/lib/python3.7/dist-packages (from spacy<3.5.0,>=3.4.0->en-core-web-sm==3.4.0) (2.28.1)\n",
            "Requirement already satisfied: typing-extensions<4.2.0,>=3.7.4 in /usr/local/lib/python3.7/dist-packages (from spacy<3.5.0,>=3.4.0->en-core-web-sm==3.4.0) (4.1.1)\n",
            "Requirement already satisfied: numpy>=1.15.0 in /usr/local/lib/python3.7/dist-packages (from spacy<3.5.0,>=3.4.0->en-core-web-sm==3.4.0) (1.21.6)\n",
            "Requirement already satisfied: spacy-loggers<2.0.0,>=1.0.0 in /usr/local/lib/python3.7/dist-packages (from spacy<3.5.0,>=3.4.0->en-core-web-sm==3.4.0) (1.0.3)\n",
            "Requirement already satisfied: preshed<3.1.0,>=3.0.2 in /usr/local/lib/python3.7/dist-packages (from spacy<3.5.0,>=3.4.0->en-core-web-sm==3.4.0) (3.0.7)\n",
            "Requirement already satisfied: pydantic!=1.8,!=1.8.1,<1.10.0,>=1.7.4 in /usr/local/lib/python3.7/dist-packages (from spacy<3.5.0,>=3.4.0->en-core-web-sm==3.4.0) (1.9.2)\n",
            "Requirement already satisfied: spacy-legacy<3.1.0,>=3.0.9 in /usr/local/lib/python3.7/dist-packages (from spacy<3.5.0,>=3.4.0->en-core-web-sm==3.4.0) (3.0.10)\n",
            "Requirement already satisfied: srsly<3.0.0,>=2.4.3 in /usr/local/lib/python3.7/dist-packages (from spacy<3.5.0,>=3.4.0->en-core-web-sm==3.4.0) (2.4.4)\n",
            "Requirement already satisfied: zipp>=0.5 in /usr/local/lib/python3.7/dist-packages (from catalogue<2.1.0,>=2.0.6->spacy<3.5.0,>=3.4.0->en-core-web-sm==3.4.0) (3.8.1)\n",
            "Requirement already satisfied: pyparsing!=3.0.5,>=2.0.2 in /usr/local/lib/python3.7/dist-packages (from packaging>=20.0->spacy<3.5.0,>=3.4.0->en-core-web-sm==3.4.0) (3.0.9)\n",
            "Requirement already satisfied: smart-open<6.0.0,>=5.2.1 in /usr/local/lib/python3.7/dist-packages (from pathy>=0.3.5->spacy<3.5.0,>=3.4.0->en-core-web-sm==3.4.0) (5.2.1)\n",
            "Requirement already satisfied: charset-normalizer<3,>=2 in /usr/local/lib/python3.7/dist-packages (from requests<3.0.0,>=2.13.0->spacy<3.5.0,>=3.4.0->en-core-web-sm==3.4.0) (2.1.1)\n",
            "Requirement already satisfied: idna<4,>=2.5 in /usr/local/lib/python3.7/dist-packages (from requests<3.0.0,>=2.13.0->spacy<3.5.0,>=3.4.0->en-core-web-sm==3.4.0) (2.10)\n",
            "Requirement already satisfied: urllib3<1.27,>=1.21.1 in /usr/local/lib/python3.7/dist-packages (from requests<3.0.0,>=2.13.0->spacy<3.5.0,>=3.4.0->en-core-web-sm==3.4.0) (1.26.12)\n",
            "Requirement already satisfied: certifi>=2017.4.17 in /usr/local/lib/python3.7/dist-packages (from requests<3.0.0,>=2.13.0->spacy<3.5.0,>=3.4.0->en-core-web-sm==3.4.0) (2022.6.15)\n",
            "Requirement already satisfied: blis<0.8.0,>=0.7.8 in /usr/local/lib/python3.7/dist-packages (from thinc<8.2.0,>=8.1.0->spacy<3.5.0,>=3.4.0->en-core-web-sm==3.4.0) (0.7.8)\n",
            "Requirement already satisfied: click<9.0.0,>=7.1.1 in /usr/local/lib/python3.7/dist-packages (from typer<0.5.0,>=0.3.0->spacy<3.5.0,>=3.4.0->en-core-web-sm==3.4.0) (7.1.2)\n",
            "Requirement already satisfied: MarkupSafe>=0.23 in /usr/local/lib/python3.7/dist-packages (from jinja2->spacy<3.5.0,>=3.4.0->en-core-web-sm==3.4.0) (2.0.1)\n",
            "\u001b[33mWARNING: Running pip as the 'root' user can result in broken permissions and conflicting behaviour with the system package manager. It is recommended to use a virtual environment instead: https://pip.pypa.io/warnings/venv\u001b[0m\u001b[33m\n",
            "\u001b[0m\u001b[38;5;2m✔ Download and installation successful\u001b[0m\n",
            "You can now load the package via spacy.load('en_core_web_sm')\n"
          ]
        }
      ]
    },
    {
      "cell_type": "code",
      "execution_count": 2,
      "metadata": {
        "id": "rfZ9dtf8vJEA"
      },
      "outputs": [],
      "source": [
        "import pke\n",
        "import pandas as pd"
      ]
    },
    {
      "cell_type": "code",
      "source": [
        "data= \"\"\"Coronaviruses are a group of related RNAvirus that cause diseases in mammals and birds.In humans and birds, they cause respiratory tract infections that can\n",
        "range from mild to lethal. Mild illnesses in humans include some cases of the common cold , while\n",
        "more lethal varieties can cause SARS, MERS and COVID-19, which is causing the ongoing pandemic. In cows and pigs they cause diarrhea, while in mice they cause \n",
        "hepatitis and encephalomyelitis.\n",
        "Coronaviruses constitute the subfamily Orthocoronavirinae, in the family Coronaviridae, order Nidovirales and realm Riboviria. They are enveloped bacteria with a\n",
        "positive-sense single-stranded RNA genome and a nucleocapsid of helical symmetry. The genome size of coronaviruses ranges from approximately 26 to 32 kilobases,\n",
        "one of the largest among RNAviruse. They have characteristic club-shaped spikes that project from their surface, which in electron micrographs create an image\n",
        "reminiscent of the stellar corona, from which their name derives.\n",
        "The name \"coronavirus\" is derived from Latin corona, meaning \"crown\" or \"wreath\", itself a borrowing from Greek κορώνη korṓnē, \"garland, wreath\". The name was coined\n",
        "by June Almeida and David Tyrrell who first observed and studied human coronaviruses. The word was first used in print in 1968 by an informal group of virologists in\n",
        "the journal Nature to designate the new family of viruse . The name refers to the characteristic appearance of virions (the infective form of the virus) by electron\n",
        "microscopy, which have a fringe of large, bulbous surface projections creating an image reminiscent of the solar corona or halo. This morphology is created by the \n",
        "viral spike peplomers, which are proteins on the surface of the virus.\n",
        "The scientific name Coronavirus was accepted as a genus name by the International Committee for the Nomenclature of Viruses (later renamed International Committee on\n",
        "Taxonomy of Viruses) in 1971. As the number of new species increased, the genus was split into four genera, namely Alphacoronavirus, Betacoronavirus, Deltacoronavirus,\n",
        "and Gammacoronavirus in 2009. The common name coronavirus is used to refer to any member of the subfamily Orthocoronavirinae. As of 2020, 45 species are officially\n",
        "recognised.\"\"\".replace('\\n' , \" \")"
      ],
      "metadata": {
        "id": "6S66C6xBvLBt"
      },
      "execution_count": 3,
      "outputs": []
    },
    {
      "cell_type": "code",
      "source": [
        "graph=[]"
      ],
      "metadata": {
        "id": "TnL6XFO0-PEQ"
      },
      "execution_count": 4,
      "outputs": []
    },
    {
      "cell_type": "markdown",
      "source": [
        "# Statistical Models"
      ],
      "metadata": {
        "id": "rVkYhxDxIP3h"
      }
    },
    {
      "cell_type": "markdown",
      "source": [
        "# TfIdf Model"
      ],
      "metadata": {
        "id": "lGdVL57N5G3Z"
      }
    },
    {
      "cell_type": "code",
      "source": [
        "extractor = pke.unsupervised.TfIdf()\n",
        "extractor.load_document(input=data, language='en')\n",
        "extractor.candidate_selection() \n",
        "extractor.candidate_weighting()\n",
        "keyphrases = extractor.get_n_best(n=5)\n",
        "print(keyphrases)\n",
        "for i in keyphrases:\n",
        "  graph.append(i[0])"
      ],
      "metadata": {
        "id": "oByV4mHpwhTV",
        "colab": {
          "base_uri": "https://localhost:8080/"
        },
        "outputId": "6f14d3a0-1d2b-4db3-86cf-20aa0d6c7f03"
      },
      "execution_count": 5,
      "outputs": [
        {
          "output_type": "stream",
          "name": "stderr",
          "text": [
            "WARNING:root:LoadFile._df_counts is hard coded to /usr/local/lib/python3.7/dist-packages/pke/models/df-semeval2010.tsv.gz\n"
          ]
        },
        {
          "output_type": "stream",
          "name": "stdout",
          "text": [
            "[('coronaviruses', 28.719636360059738), ('corona', 21.539727270044803), ('coronavirus', 21.539727270044803), ('viruse', 18.539727270044803), ('subfamily', 14.359818180029869)]\n"
          ]
        }
      ]
    },
    {
      "cell_type": "markdown",
      "source": [
        "# KPMiner Model"
      ],
      "metadata": {
        "id": "7aIYKTUDE9WK"
      }
    },
    {
      "cell_type": "code",
      "source": [
        "extractor = pke.unsupervised.KPMiner()\n",
        "extractor.load_document(input=data, language='en')\n",
        "extractor.candidate_selection() \n",
        "extractor.candidate_weighting()\n",
        "keyphrases = extractor.get_n_best(n=5)\n",
        "print(keyphrases)\n",
        "for i in keyphrases:\n",
        "  graph.append(i[0])"
      ],
      "metadata": {
        "colab": {
          "base_uri": "https://localhost:8080/"
        },
        "id": "YhnMIQ5Bx1an",
        "outputId": "5d78308f-ac10-48ae-fb10-7539a31a5158"
      },
      "execution_count": 6,
      "outputs": [
        {
          "output_type": "stream",
          "name": "stderr",
          "text": [
            "WARNING:root:LoadFile._df_counts is hard coded to /usr/local/lib/python3.7/dist-packages/pke/models/df-semeval2010.tsv.gz\n"
          ]
        },
        {
          "output_type": "stream",
          "name": "stdout",
          "text": [
            "[('coronaviruses', 28.719636360059738), ('corona', 21.539727270044803), ('coronavirus', 21.539727270044803), ('viruse', 18.539727270044803), ('surface', 10.438408115621527)]\n"
          ]
        }
      ]
    },
    {
      "cell_type": "markdown",
      "source": [
        "# YAKE Model"
      ],
      "metadata": {
        "id": "EbqsM2J14_Td"
      }
    },
    {
      "cell_type": "code",
      "source": [
        "\n",
        "extractor = pke.unsupervised.YAKE()\n",
        "extractor.load_document(input=data, language='en')\n",
        "extractor.candidate_selection() \n",
        "extractor.candidate_weighting()\n",
        "keyphrases = extractor.get_n_best(n=7)\n",
        "print(keyphrases)\n",
        "for i in keyphrases:\n",
        "  graph.append(i[0])"
      ],
      "metadata": {
        "colab": {
          "base_uri": "https://localhost:8080/"
        },
        "id": "TYCvrub239uE",
        "outputId": "43fbe286-3f8e-4cf6-9fa8-768f2b681fec"
      },
      "execution_count": 7,
      "outputs": [
        {
          "output_type": "stream",
          "name": "stdout",
          "text": [
            "[('related rnavirus', 0.018616901025104604), ('cause', 0.06279550410752939), ('rnavirus', 0.07220175964389962), ('cause diseases', 0.08634021862234707), ('cause sars', 0.09734084131789804), ('international committee', 0.09781429759568921), ('coronaviruses', 0.12249725360195914)]\n"
          ]
        }
      ]
    },
    {
      "cell_type": "markdown",
      "source": [
        "# FirstPhrases Model"
      ],
      "metadata": {
        "id": "wLrZKDib5X7k"
      }
    },
    {
      "cell_type": "code",
      "source": [
        "\n",
        "extractor = pke.unsupervised.FirstPhrases()\n",
        "extractor.load_document(input=data, language='en')\n",
        "extractor.candidate_selection() \n",
        "extractor.candidate_weighting()\n",
        "keyphrases = extractor.get_n_best(n=7)\n",
        "print(keyphrases)\n",
        "for i in keyphrases:\n",
        "  graph.append(i[0])"
      ],
      "metadata": {
        "colab": {
          "base_uri": "https://localhost:8080/"
        },
        "id": "AehYsluH47Hk",
        "outputId": "eac6abb7-a165-4d54-e06e-cca4521e36d2"
      },
      "execution_count": 8,
      "outputs": [
        {
          "output_type": "stream",
          "name": "stdout",
          "text": [
            "[('coronaviruses', 0), ('group', -3), ('related rnavirus', -5), ('diseases', -9), ('mammals', -11), ('birds', -13), ('humans', -16)]\n"
          ]
        }
      ]
    },
    {
      "cell_type": "markdown",
      "source": [
        "# Graph_Based_Models"
      ],
      "metadata": {
        "id": "CNOEwvtnGlRK"
      }
    },
    {
      "cell_type": "markdown",
      "source": [
        "# TextRank"
      ],
      "metadata": {
        "id": "V1BPPn7rGt0L"
      }
    },
    {
      "cell_type": "code",
      "source": [
        "extractor = pke.unsupervised.TextRank()\n",
        "extractor.load_document(input=data , language='en')\n",
        "extractor.candidate_selection()\n",
        "extractor.candidate_weighting()\n",
        "keyphrases = extractor.get_n_best(n=5, stemming=False)\n",
        "print(keyphrases)\n",
        "for i in keyphrases:\n",
        "  graph.append(i[0])"
      ],
      "metadata": {
        "id": "rom7LWzH-0ML",
        "colab": {
          "base_uri": "https://localhost:8080/"
        },
        "outputId": "bd59dae2-2062-4e6b-a1e5-a4db1e46c591"
      },
      "execution_count": 9,
      "outputs": [
        {
          "output_type": "stream",
          "name": "stdout",
          "text": [
            "[('common name coronavirus', 0.05930240693968216), ('characteristic club-shaped spikes', 0.05886757983290376), ('scientific name coronavirus', 0.051116824946041035), ('respiratory tract infections', 0.047974698633261904), ('bulbous surface projections', 0.04363909252703861)]\n"
          ]
        }
      ]
    },
    {
      "cell_type": "markdown",
      "source": [
        "# SingleRank Model"
      ],
      "metadata": {
        "id": "Zn6w_qmWHB7C"
      }
    },
    {
      "cell_type": "code",
      "source": [
        "extractor = pke.unsupervised.SingleRank()\n",
        "extractor.load_document(input=data , language='en')\n",
        "extractor.candidate_selection()\n",
        "extractor.candidate_weighting()\n",
        "keyphrases = extractor.get_n_best(n=5, stemming=False)\n",
        "\n",
        "for i, (candidate, score) in enumerate(keyphrases):\n",
        "    print(\"rank {}: {} ({})\".format(i, candidate, score))\n",
        "    graph.append(candidate)"
      ],
      "metadata": {
        "colab": {
          "base_uri": "https://localhost:8080/"
        },
        "id": "uhtg-3g0G84m",
        "outputId": "d6b98544-e9e9-4db6-dbb2-9358cf06558a"
      },
      "execution_count": 10,
      "outputs": [
        {
          "output_type": "stream",
          "name": "stdout",
          "text": [
            "rank 0: common name coronavirus (0.062167825631837675)\n",
            "rank 1: scientific name coronavirus (0.05566545365139669)\n",
            "rank 2: genus name (0.047000017260372916)\n",
            "rank 3: human coronaviruses (0.043789988491502695)\n",
            "rank 4: bulbous surface projections (0.042266591416625886)\n"
          ]
        }
      ]
    },
    {
      "cell_type": "markdown",
      "source": [
        "# PositionRank Model"
      ],
      "metadata": {
        "id": "kpfD5y5XHR3e"
      }
    },
    {
      "cell_type": "code",
      "source": [
        "extractor = pke.unsupervised.PositionRank()\n",
        "extractor.load_document(input=data , language='en')\n",
        "extractor.candidate_selection()\n",
        "extractor.candidate_weighting()\n",
        "keyphrases = extractor.get_n_best(n=5, stemming=False)\n",
        "\n",
        "for i, (candidate, score) in enumerate(keyphrases):\n",
        "    print(\"rank {}: {} ({})\".format(i, candidate, score))\n",
        "    graph.append(candidate)"
      ],
      "metadata": {
        "colab": {
          "base_uri": "https://localhost:8080/"
        },
        "id": "jWe-ygQDHHO8",
        "outputId": "fe96e920-c74d-4ba9-fc61-185846486b2e"
      },
      "execution_count": 11,
      "outputs": [
        {
          "output_type": "stream",
          "name": "stdout",
          "text": [
            "rank 0: human coronaviruses (0.12635363260492155)\n",
            "rank 1: coronaviruses (0.0884803760263572)\n",
            "rank 2: related rnavirus (0.052245680026920704)\n",
            "rank 3: informal group (0.04463660050339231)\n",
            "rank 4: common name coronavirus (0.04233884897329286)\n"
          ]
        }
      ]
    },
    {
      "cell_type": "markdown",
      "source": [
        "# TopicRank Model"
      ],
      "metadata": {
        "id": "9zmP2qJpH9Ea"
      }
    },
    {
      "cell_type": "code",
      "source": [
        "extractor = pke.unsupervised.TopicRank()\n",
        "extractor.load_document(input=data , language='en')\n",
        "extractor.candidate_selection()\n",
        "extractor.candidate_weighting()\n",
        "keyphrases = extractor.get_n_best(n=5)\n",
        "for i, (candidate, score) in enumerate(keyphrases):\n",
        "    print(\"rank {}: {} ({})\".format(i, candidate, score))\n",
        "    graph.append(candidate)"
      ],
      "metadata": {
        "colab": {
          "base_uri": "https://localhost:8080/"
        },
        "id": "DCsG4AS0Hzv7",
        "outputId": "b6092f03-4e37-406d-f73b-7f0c21823aff"
      },
      "execution_count": 12,
      "outputs": [
        {
          "output_type": "stream",
          "name": "stdout",
          "text": [
            "rank 0: coronaviruses (0.03471166107371842)\n",
            "rank 1: viruse (0.026982270371004872)\n",
            "rank 2: stellar corona (0.025859660366667807)\n",
            "rank 3: rna genome (0.021457960984541887)\n",
            "rank 4: project (0.021401623919812835)\n"
          ]
        }
      ]
    },
    {
      "cell_type": "code",
      "source": [
        "graph"
      ],
      "metadata": {
        "colab": {
          "base_uri": "https://localhost:8080/"
        },
        "id": "p1PCq4arHV5n",
        "outputId": "6e56395d-454e-4476-ba23-52bbfa83d349"
      },
      "execution_count": 13,
      "outputs": [
        {
          "output_type": "execute_result",
          "data": {
            "text/plain": [
              "['coronaviruses',\n",
              " 'corona',\n",
              " 'coronavirus',\n",
              " 'viruse',\n",
              " 'subfamily',\n",
              " 'coronaviruses',\n",
              " 'corona',\n",
              " 'coronavirus',\n",
              " 'viruse',\n",
              " 'surface',\n",
              " 'related rnavirus',\n",
              " 'cause',\n",
              " 'rnavirus',\n",
              " 'cause diseases',\n",
              " 'cause sars',\n",
              " 'international committee',\n",
              " 'coronaviruses',\n",
              " 'coronaviruses',\n",
              " 'group',\n",
              " 'related rnavirus',\n",
              " 'diseases',\n",
              " 'mammals',\n",
              " 'birds',\n",
              " 'humans',\n",
              " 'common name coronavirus',\n",
              " 'characteristic club-shaped spikes',\n",
              " 'scientific name coronavirus',\n",
              " 'respiratory tract infections',\n",
              " 'bulbous surface projections',\n",
              " 'common name coronavirus',\n",
              " 'scientific name coronavirus',\n",
              " 'genus name',\n",
              " 'human coronaviruses',\n",
              " 'bulbous surface projections',\n",
              " 'human coronaviruses',\n",
              " 'coronaviruses',\n",
              " 'related rnavirus',\n",
              " 'informal group',\n",
              " 'common name coronavirus',\n",
              " 'coronaviruses',\n",
              " 'viruse',\n",
              " 'stellar corona',\n",
              " 'rna genome',\n",
              " 'project']"
            ]
          },
          "metadata": {},
          "execution_count": 13
        }
      ]
    },
    {
      "cell_type": "markdown",
      "source": [
        "# THE RESULT"
      ],
      "metadata": {
        "id": "eb2LoPSCIwee"
      }
    },
    {
      "cell_type": "code",
      "source": [
        "from collections import Counter\n",
        "m=Counter(graph)\n",
        "m.most_common(10)"
      ],
      "metadata": {
        "colab": {
          "base_uri": "https://localhost:8080/"
        },
        "id": "1bIFXunWHimW",
        "outputId": "af1cea11-4ffb-4e8c-c89f-799c126c4296"
      },
      "execution_count": 14,
      "outputs": [
        {
          "output_type": "execute_result",
          "data": {
            "text/plain": [
              "[('coronaviruses', 6),\n",
              " ('viruse', 3),\n",
              " ('related rnavirus', 3),\n",
              " ('common name coronavirus', 3),\n",
              " ('corona', 2),\n",
              " ('coronavirus', 2),\n",
              " ('scientific name coronavirus', 2),\n",
              " ('bulbous surface projections', 2),\n",
              " ('human coronaviruses', 2),\n",
              " ('subfamily', 1)]"
            ]
          },
          "metadata": {},
          "execution_count": 14
        }
      ]
    },
    {
      "cell_type": "markdown",
      "source": [
        "# **keyphrase sentance mapping**"
      ],
      "metadata": {
        "id": "NXcFSE_VIrAE"
      }
    },
    {
      "cell_type": "code",
      "source": [
        "pip install flashtext"
      ],
      "metadata": {
        "colab": {
          "base_uri": "https://localhost:8080/"
        },
        "id": "7HY2nat-HrWV",
        "outputId": "5297ab79-2425-4e02-e2dd-173f0e4faeaf"
      },
      "execution_count": 15,
      "outputs": [
        {
          "output_type": "stream",
          "name": "stdout",
          "text": [
            "Looking in indexes: https://pypi.org/simple, https://us-python.pkg.dev/colab-wheels/public/simple/\n",
            "Requirement already satisfied: flashtext in /usr/local/lib/python3.7/dist-packages (2.7)\n",
            "\u001b[33mWARNING: Running pip as the 'root' user can result in broken permissions and conflicting behaviour with the system package manager. It is recommended to use a virtual environment instead: https://pip.pypa.io/warnings/venv\u001b[0m\u001b[33m\n",
            "\u001b[0m"
          ]
        }
      ]
    },
    {
      "cell_type": "code",
      "source": [
        "from nltk.tokenize import sent_tokenize\n",
        "from flashtext import KeywordProcessor"
      ],
      "metadata": {
        "id": "xI84yisTI2BJ"
      },
      "execution_count": 16,
      "outputs": []
    },
    {
      "cell_type": "code",
      "source": [
        "import nltk\n",
        "nltk.download('punkt')"
      ],
      "metadata": {
        "colab": {
          "base_uri": "https://localhost:8080/"
        },
        "id": "3RiE3w9vJChT",
        "outputId": "739772b3-98cd-4d74-94e9-ba7f2ec1b440"
      },
      "execution_count": 17,
      "outputs": [
        {
          "output_type": "stream",
          "name": "stderr",
          "text": [
            "[nltk_data] Downloading package punkt to /root/nltk_data...\n",
            "[nltk_data]   Package punkt is already up-to-date!\n"
          ]
        },
        {
          "output_type": "execute_result",
          "data": {
            "text/plain": [
              "True"
            ]
          },
          "metadata": {},
          "execution_count": 17
        }
      ]
    },
    {
      "cell_type": "markdown",
      "source": [
        "Get Sentences For Keyword for Graph"
      ],
      "metadata": {
        "id": "rDiC6Cb0NoL3"
      }
    },
    {
      "cell_type": "code",
      "source": [
        "def tokenize_sentences(data):\n",
        "    sentences = [sent_tokenize(data)]\n",
        "    sentences = [y for x in sentences for y in x]\n",
        "    # Remove any short sentences less than 20 letters.\n",
        "    sentences = [sentence.strip() for sentence in sentences if len(sentence) > 20]\n",
        "    return sentences\n",
        "\n",
        "def get_sentences_for_keyword(keywords, sentences):\n",
        "    keyword_processor = KeywordProcessor()\n",
        "    keyword_sentences = {}\n",
        "    for word in keywords:\n",
        "        keyword_sentences[word] = []\n",
        "        keyword_processor.add_keyword(word)\n",
        "    for sentence in sentences:\n",
        "        keywords_found = keyword_processor.extract_keywords(sentence)\n",
        "        for key in keywords_found:\n",
        "            keyword_sentences[key].append(sentence)\n",
        "\n",
        "    for key in keyword_sentences.keys():\n",
        "        values = keyword_sentences[key]\n",
        "        values = sorted(values, key=len, reverse=True)\n",
        "        keyword_sentences[key] = values\n",
        "    return keyword_sentences\n",
        "\n"
      ],
      "metadata": {
        "id": "ZuZqYL8SJ2aS"
      },
      "execution_count": 18,
      "outputs": []
    },
    {
      "cell_type": "code",
      "source": [
        "sentences = tokenize_sentences(data)\n",
        "keyword_sentence_mapping = get_sentences_for_keyword(graph, sentences)\n",
        "        \n",
        "print (keyword_sentence_mapping)"
      ],
      "metadata": {
        "colab": {
          "base_uri": "https://localhost:8080/"
        },
        "id": "Y7R3o1DKKXRU",
        "outputId": "f1e19475-24fd-405b-b799-fbd322b7ebb6"
      },
      "execution_count": 19,
      "outputs": [
        {
          "output_type": "stream",
          "name": "stdout",
          "text": [
            "{'coronaviruses': ['Coronaviruses are a group of related RNAvirus that cause diseases in mammals and birds.In humans and birds, they cause respiratory tract infections that can range from mild to lethal.', 'Coronaviruses constitute the subfamily Orthocoronavirinae, in the family Coronaviridae, order Nidovirales and realm Riboviria.', 'The genome size of coronaviruses ranges from approximately 26 to 32 kilobases, one of the largest among RNAviruse.'], 'corona': ['The name refers to the characteristic appearance of virions (the infective form of the virus) by electron microscopy, which have a fringe of large, bulbous surface projections creating an image reminiscent of the solar corona or halo.', 'The name \"coronavirus\" is derived from Latin corona, meaning \"crown\" or \"wreath\", itself a borrowing from Greek κορώνη korṓnē, \"garland, wreath\".'], 'coronavirus': ['The name \"coronavirus\" is derived from Latin corona, meaning \"crown\" or \"wreath\", itself a borrowing from Greek κορώνη korṓnē, \"garland, wreath\".'], 'viruse': ['The word was first used in print in 1968 by an informal group of virologists in the journal Nature to designate the new family of viruse .'], 'subfamily': ['Coronaviruses constitute the subfamily Orthocoronavirinae, in the family Coronaviridae, order Nidovirales and realm Riboviria.', 'The common name coronavirus is used to refer to any member of the subfamily Orthocoronavirinae.'], 'surface': ['They have characteristic club-shaped spikes that project from their surface, which in electron micrographs create an image reminiscent of the stellar corona, from which their name derives.', 'This morphology is created by the  viral spike peplomers, which are proteins on the surface of the virus.'], 'related rnavirus': ['Coronaviruses are a group of related RNAvirus that cause diseases in mammals and birds.In humans and birds, they cause respiratory tract infections that can range from mild to lethal.'], 'cause': ['Coronaviruses are a group of related RNAvirus that cause diseases in mammals and birds.In humans and birds, they cause respiratory tract infections that can range from mild to lethal.', 'In cows and pigs they cause diarrhea, while in mice they cause  hepatitis and encephalomyelitis.', 'In cows and pigs they cause diarrhea, while in mice they cause  hepatitis and encephalomyelitis.'], 'rnavirus': [], 'cause diseases': ['Coronaviruses are a group of related RNAvirus that cause diseases in mammals and birds.In humans and birds, they cause respiratory tract infections that can range from mild to lethal.'], 'cause sars': ['Mild illnesses in humans include some cases of the common cold , while more lethal varieties can cause SARS, MERS and COVID-19, which is causing the ongoing pandemic.'], 'international committee': ['The scientific name Coronavirus was accepted as a genus name by the International Committee for the Nomenclature of Viruses (later renamed International Committee on Taxonomy of Viruses) in 1971.', 'The scientific name Coronavirus was accepted as a genus name by the International Committee for the Nomenclature of Viruses (later renamed International Committee on Taxonomy of Viruses) in 1971.'], 'group': ['Coronaviruses are a group of related RNAvirus that cause diseases in mammals and birds.In humans and birds, they cause respiratory tract infections that can range from mild to lethal.'], 'diseases': [], 'mammals': ['Coronaviruses are a group of related RNAvirus that cause diseases in mammals and birds.In humans and birds, they cause respiratory tract infections that can range from mild to lethal.'], 'birds': ['Coronaviruses are a group of related RNAvirus that cause diseases in mammals and birds.In humans and birds, they cause respiratory tract infections that can range from mild to lethal.', 'Coronaviruses are a group of related RNAvirus that cause diseases in mammals and birds.In humans and birds, they cause respiratory tract infections that can range from mild to lethal.'], 'humans': ['Coronaviruses are a group of related RNAvirus that cause diseases in mammals and birds.In humans and birds, they cause respiratory tract infections that can range from mild to lethal.', 'Mild illnesses in humans include some cases of the common cold , while more lethal varieties can cause SARS, MERS and COVID-19, which is causing the ongoing pandemic.'], 'common name coronavirus': ['The common name coronavirus is used to refer to any member of the subfamily Orthocoronavirinae.'], 'characteristic club-shaped spikes': ['They have characteristic club-shaped spikes that project from their surface, which in electron micrographs create an image reminiscent of the stellar corona, from which their name derives.'], 'scientific name coronavirus': ['The scientific name Coronavirus was accepted as a genus name by the International Committee for the Nomenclature of Viruses (later renamed International Committee on Taxonomy of Viruses) in 1971.'], 'respiratory tract infections': ['Coronaviruses are a group of related RNAvirus that cause diseases in mammals and birds.In humans and birds, they cause respiratory tract infections that can range from mild to lethal.'], 'bulbous surface projections': ['The name refers to the characteristic appearance of virions (the infective form of the virus) by electron microscopy, which have a fringe of large, bulbous surface projections creating an image reminiscent of the solar corona or halo.'], 'genus name': ['The scientific name Coronavirus was accepted as a genus name by the International Committee for the Nomenclature of Viruses (later renamed International Committee on Taxonomy of Viruses) in 1971.'], 'human coronaviruses': ['The name was coined by June Almeida and David Tyrrell who first observed and studied human coronaviruses.'], 'informal group': ['The word was first used in print in 1968 by an informal group of virologists in the journal Nature to designate the new family of viruse .'], 'stellar corona': ['They have characteristic club-shaped spikes that project from their surface, which in electron micrographs create an image reminiscent of the stellar corona, from which their name derives.'], 'rna genome': ['They are enveloped bacteria with a positive-sense single-stranded RNA genome and a nucleocapsid of helical symmetry.'], 'project': ['They have characteristic club-shaped spikes that project from their surface, which in electron micrographs create an image reminiscent of the stellar corona, from which their name derives.']}\n"
          ]
        }
      ]
    },
    {
      "cell_type": "code",
      "source": [
        "graph_mapping={}\n",
        "for i,j in keyword_sentence_mapping.items():\n",
        "  if len(j)!=0:\n",
        "    graph_mapping[i]=j"
      ],
      "metadata": {
        "id": "6wKdtRsCK2GS"
      },
      "execution_count": 20,
      "outputs": []
    },
    {
      "cell_type": "code",
      "source": [
        "graph_mapping"
      ],
      "metadata": {
        "colab": {
          "base_uri": "https://localhost:8080/"
        },
        "id": "dZm6DzIiNUBM",
        "outputId": "23a1efbc-ec0d-478d-c007-de551216899a"
      },
      "execution_count": 21,
      "outputs": [
        {
          "output_type": "execute_result",
          "data": {
            "text/plain": [
              "{'coronaviruses': ['Coronaviruses are a group of related RNAvirus that cause diseases in mammals and birds.In humans and birds, they cause respiratory tract infections that can range from mild to lethal.',\n",
              "  'Coronaviruses constitute the subfamily Orthocoronavirinae, in the family Coronaviridae, order Nidovirales and realm Riboviria.',\n",
              "  'The genome size of coronaviruses ranges from approximately 26 to 32 kilobases, one of the largest among RNAviruse.'],\n",
              " 'corona': ['The name refers to the characteristic appearance of virions (the infective form of the virus) by electron microscopy, which have a fringe of large, bulbous surface projections creating an image reminiscent of the solar corona or halo.',\n",
              "  'The name \"coronavirus\" is derived from Latin corona, meaning \"crown\" or \"wreath\", itself a borrowing from Greek κορώνη korṓnē, \"garland, wreath\".'],\n",
              " 'coronavirus': ['The name \"coronavirus\" is derived from Latin corona, meaning \"crown\" or \"wreath\", itself a borrowing from Greek κορώνη korṓnē, \"garland, wreath\".'],\n",
              " 'viruse': ['The word was first used in print in 1968 by an informal group of virologists in the journal Nature to designate the new family of viruse .'],\n",
              " 'subfamily': ['Coronaviruses constitute the subfamily Orthocoronavirinae, in the family Coronaviridae, order Nidovirales and realm Riboviria.',\n",
              "  'The common name coronavirus is used to refer to any member of the subfamily Orthocoronavirinae.'],\n",
              " 'surface': ['They have characteristic club-shaped spikes that project from their surface, which in electron micrographs create an image reminiscent of the stellar corona, from which their name derives.',\n",
              "  'This morphology is created by the  viral spike peplomers, which are proteins on the surface of the virus.'],\n",
              " 'related rnavirus': ['Coronaviruses are a group of related RNAvirus that cause diseases in mammals and birds.In humans and birds, they cause respiratory tract infections that can range from mild to lethal.'],\n",
              " 'cause': ['Coronaviruses are a group of related RNAvirus that cause diseases in mammals and birds.In humans and birds, they cause respiratory tract infections that can range from mild to lethal.',\n",
              "  'In cows and pigs they cause diarrhea, while in mice they cause  hepatitis and encephalomyelitis.',\n",
              "  'In cows and pigs they cause diarrhea, while in mice they cause  hepatitis and encephalomyelitis.'],\n",
              " 'cause diseases': ['Coronaviruses are a group of related RNAvirus that cause diseases in mammals and birds.In humans and birds, they cause respiratory tract infections that can range from mild to lethal.'],\n",
              " 'cause sars': ['Mild illnesses in humans include some cases of the common cold , while more lethal varieties can cause SARS, MERS and COVID-19, which is causing the ongoing pandemic.'],\n",
              " 'international committee': ['The scientific name Coronavirus was accepted as a genus name by the International Committee for the Nomenclature of Viruses (later renamed International Committee on Taxonomy of Viruses) in 1971.',\n",
              "  'The scientific name Coronavirus was accepted as a genus name by the International Committee for the Nomenclature of Viruses (later renamed International Committee on Taxonomy of Viruses) in 1971.'],\n",
              " 'group': ['Coronaviruses are a group of related RNAvirus that cause diseases in mammals and birds.In humans and birds, they cause respiratory tract infections that can range from mild to lethal.'],\n",
              " 'mammals': ['Coronaviruses are a group of related RNAvirus that cause diseases in mammals and birds.In humans and birds, they cause respiratory tract infections that can range from mild to lethal.'],\n",
              " 'birds': ['Coronaviruses are a group of related RNAvirus that cause diseases in mammals and birds.In humans and birds, they cause respiratory tract infections that can range from mild to lethal.',\n",
              "  'Coronaviruses are a group of related RNAvirus that cause diseases in mammals and birds.In humans and birds, they cause respiratory tract infections that can range from mild to lethal.'],\n",
              " 'humans': ['Coronaviruses are a group of related RNAvirus that cause diseases in mammals and birds.In humans and birds, they cause respiratory tract infections that can range from mild to lethal.',\n",
              "  'Mild illnesses in humans include some cases of the common cold , while more lethal varieties can cause SARS, MERS and COVID-19, which is causing the ongoing pandemic.'],\n",
              " 'common name coronavirus': ['The common name coronavirus is used to refer to any member of the subfamily Orthocoronavirinae.'],\n",
              " 'characteristic club-shaped spikes': ['They have characteristic club-shaped spikes that project from their surface, which in electron micrographs create an image reminiscent of the stellar corona, from which their name derives.'],\n",
              " 'scientific name coronavirus': ['The scientific name Coronavirus was accepted as a genus name by the International Committee for the Nomenclature of Viruses (later renamed International Committee on Taxonomy of Viruses) in 1971.'],\n",
              " 'respiratory tract infections': ['Coronaviruses are a group of related RNAvirus that cause diseases in mammals and birds.In humans and birds, they cause respiratory tract infections that can range from mild to lethal.'],\n",
              " 'bulbous surface projections': ['The name refers to the characteristic appearance of virions (the infective form of the virus) by electron microscopy, which have a fringe of large, bulbous surface projections creating an image reminiscent of the solar corona or halo.'],\n",
              " 'genus name': ['The scientific name Coronavirus was accepted as a genus name by the International Committee for the Nomenclature of Viruses (later renamed International Committee on Taxonomy of Viruses) in 1971.'],\n",
              " 'human coronaviruses': ['The name was coined by June Almeida and David Tyrrell who first observed and studied human coronaviruses.'],\n",
              " 'informal group': ['The word was first used in print in 1968 by an informal group of virologists in the journal Nature to designate the new family of viruse .'],\n",
              " 'stellar corona': ['They have characteristic club-shaped spikes that project from their surface, which in electron micrographs create an image reminiscent of the stellar corona, from which their name derives.'],\n",
              " 'rna genome': ['They are enveloped bacteria with a positive-sense single-stranded RNA genome and a nucleocapsid of helical symmetry.'],\n",
              " 'project': ['They have characteristic club-shaped spikes that project from their surface, which in electron micrographs create an image reminiscent of the stellar corona, from which their name derives.']}"
            ]
          },
          "metadata": {},
          "execution_count": 21
        }
      ]
    },
    {
      "cell_type": "markdown",
      "source": [
        "# Question Generation"
      ],
      "metadata": {
        "id": "58k0iuO3N02H"
      }
    },
    {
      "cell_type": "code",
      "source": [
        "!pip install -U transformers==3.0.0\n",
        "!python -m nltk.downloader punkt\n",
        "!git clone https://github.com/patil-suraj/question_generation.git\n",
        "%cd question_generation"
      ],
      "metadata": {
        "colab": {
          "base_uri": "https://localhost:8080/"
        },
        "id": "MjpldDxGNeHb",
        "outputId": "46eb25db-a556-49ae-8eca-a08c86de4ede"
      },
      "execution_count": 22,
      "outputs": [
        {
          "output_type": "stream",
          "name": "stdout",
          "text": [
            "Looking in indexes: https://pypi.org/simple, https://us-python.pkg.dev/colab-wheels/public/simple/\n",
            "Collecting transformers==3.0.0\n",
            "  Using cached transformers-3.0.0-py3-none-any.whl (754 kB)\n",
            "Requirement already satisfied: regex!=2019.12.17 in /usr/local/lib/python3.7/dist-packages (from transformers==3.0.0) (2022.6.2)\n",
            "Requirement already satisfied: sentencepiece in /usr/local/lib/python3.7/dist-packages (from transformers==3.0.0) (0.1.97)\n",
            "Requirement already satisfied: numpy in /usr/local/lib/python3.7/dist-packages (from transformers==3.0.0) (1.21.6)\n",
            "Requirement already satisfied: tqdm>=4.27 in /usr/local/lib/python3.7/dist-packages (from transformers==3.0.0) (4.64.1)\n",
            "Requirement already satisfied: requests in /usr/local/lib/python3.7/dist-packages (from transformers==3.0.0) (2.28.1)\n",
            "Collecting tokenizers==0.8.0-rc4\n",
            "  Using cached tokenizers-0.8.0rc4-cp37-cp37m-manylinux1_x86_64.whl (3.0 MB)\n",
            "Requirement already satisfied: sacremoses in /usr/local/lib/python3.7/dist-packages (from transformers==3.0.0) (0.0.53)\n",
            "Requirement already satisfied: packaging in /usr/local/lib/python3.7/dist-packages (from transformers==3.0.0) (21.3)\n",
            "Requirement already satisfied: filelock in /usr/local/lib/python3.7/dist-packages (from transformers==3.0.0) (3.8.0)\n",
            "Requirement already satisfied: pyparsing!=3.0.5,>=2.0.2 in /usr/local/lib/python3.7/dist-packages (from packaging->transformers==3.0.0) (3.0.9)\n",
            "Requirement already satisfied: charset-normalizer<3,>=2 in /usr/local/lib/python3.7/dist-packages (from requests->transformers==3.0.0) (2.1.1)\n",
            "Requirement already satisfied: idna<4,>=2.5 in /usr/local/lib/python3.7/dist-packages (from requests->transformers==3.0.0) (2.10)\n",
            "Requirement already satisfied: urllib3<1.27,>=1.21.1 in /usr/local/lib/python3.7/dist-packages (from requests->transformers==3.0.0) (1.26.12)\n",
            "Requirement already satisfied: certifi>=2017.4.17 in /usr/local/lib/python3.7/dist-packages (from requests->transformers==3.0.0) (2022.6.15)\n",
            "Requirement already satisfied: joblib in /usr/local/lib/python3.7/dist-packages (from sacremoses->transformers==3.0.0) (1.1.0)\n",
            "Requirement already satisfied: click in /usr/local/lib/python3.7/dist-packages (from sacremoses->transformers==3.0.0) (7.1.2)\n",
            "Requirement already satisfied: six in /usr/local/lib/python3.7/dist-packages (from sacremoses->transformers==3.0.0) (1.15.0)\n",
            "Installing collected packages: tokenizers, transformers\n",
            "  Attempting uninstall: tokenizers\n",
            "    Found existing installation: tokenizers 0.12.1\n",
            "    Uninstalling tokenizers-0.12.1:\n",
            "      Successfully uninstalled tokenizers-0.12.1\n",
            "  Attempting uninstall: transformers\n",
            "    Found existing installation: transformers 4.21.2\n",
            "    Uninstalling transformers-4.21.2:\n",
            "      Successfully uninstalled transformers-4.21.2\n",
            "\u001b[31mERROR: pip's dependency resolver does not currently take into account all the packages that are installed. This behaviour is the source of the following dependency conflicts.\n",
            "sentence-transformers 2.2.2 requires transformers<5.0.0,>=4.6.0, but you have transformers 3.0.0 which is incompatible.\n",
            "farm-haystack 1.10.0rc0 requires transformers==4.21.2, but you have transformers 3.0.0 which is incompatible.\u001b[0m\u001b[31m\n",
            "\u001b[0mSuccessfully installed tokenizers-0.8.0rc4 transformers-3.0.0\n",
            "\u001b[33mWARNING: Running pip as the 'root' user can result in broken permissions and conflicting behaviour with the system package manager. It is recommended to use a virtual environment instead: https://pip.pypa.io/warnings/venv\u001b[0m\u001b[33m\n",
            "\u001b[0m/usr/lib/python3.7/runpy.py:125: RuntimeWarning: 'nltk.downloader' found in sys.modules after import of package 'nltk', but prior to execution of 'nltk.downloader'; this may result in unpredictable behaviour\n",
            "  warn(RuntimeWarning(msg))\n",
            "[nltk_data] Downloading package punkt to /root/nltk_data...\n",
            "[nltk_data]   Package punkt is already up-to-date!\n",
            "fatal: destination path 'question_generation' already exists and is not an empty directory.\n",
            "/content/question_generation\n"
          ]
        }
      ]
    },
    {
      "cell_type": "code",
      "source": [
        "!pip install -U spacy"
      ],
      "metadata": {
        "colab": {
          "base_uri": "https://localhost:8080/"
        },
        "id": "uEf_19EvquzL",
        "outputId": "566369a5-e124-4604-cdd2-fb17416c609d"
      },
      "execution_count": 23,
      "outputs": [
        {
          "output_type": "stream",
          "name": "stdout",
          "text": [
            "Looking in indexes: https://pypi.org/simple, https://us-python.pkg.dev/colab-wheels/public/simple/\n",
            "Requirement already satisfied: spacy in /usr/local/lib/python3.7/dist-packages (3.4.1)\n",
            "Requirement already satisfied: spacy-legacy<3.1.0,>=3.0.9 in /usr/local/lib/python3.7/dist-packages (from spacy) (3.0.10)\n",
            "Requirement already satisfied: setuptools in /usr/local/lib/python3.7/dist-packages (from spacy) (57.4.0)\n",
            "Requirement already satisfied: wasabi<1.1.0,>=0.9.1 in /usr/local/lib/python3.7/dist-packages (from spacy) (0.10.1)\n",
            "Requirement already satisfied: srsly<3.0.0,>=2.4.3 in /usr/local/lib/python3.7/dist-packages (from spacy) (2.4.4)\n",
            "Requirement already satisfied: langcodes<4.0.0,>=3.2.0 in /usr/local/lib/python3.7/dist-packages (from spacy) (3.3.0)\n",
            "Requirement already satisfied: tqdm<5.0.0,>=4.38.0 in /usr/local/lib/python3.7/dist-packages (from spacy) (4.64.1)\n",
            "Requirement already satisfied: pathy>=0.3.5 in /usr/local/lib/python3.7/dist-packages (from spacy) (0.6.2)\n",
            "Requirement already satisfied: packaging>=20.0 in /usr/local/lib/python3.7/dist-packages (from spacy) (21.3)\n",
            "Requirement already satisfied: typer<0.5.0,>=0.3.0 in /usr/local/lib/python3.7/dist-packages (from spacy) (0.4.2)\n",
            "Requirement already satisfied: spacy-loggers<2.0.0,>=1.0.0 in /usr/local/lib/python3.7/dist-packages (from spacy) (1.0.3)\n",
            "Requirement already satisfied: typing-extensions<4.2.0,>=3.7.4 in /usr/local/lib/python3.7/dist-packages (from spacy) (4.1.1)\n",
            "Requirement already satisfied: pydantic!=1.8,!=1.8.1,<1.10.0,>=1.7.4 in /usr/local/lib/python3.7/dist-packages (from spacy) (1.9.2)\n",
            "Requirement already satisfied: requests<3.0.0,>=2.13.0 in /usr/local/lib/python3.7/dist-packages (from spacy) (2.28.1)\n",
            "Requirement already satisfied: cymem<2.1.0,>=2.0.2 in /usr/local/lib/python3.7/dist-packages (from spacy) (2.0.6)\n",
            "Requirement already satisfied: thinc<8.2.0,>=8.1.0 in /usr/local/lib/python3.7/dist-packages (from spacy) (8.1.0)\n",
            "Requirement already satisfied: catalogue<2.1.0,>=2.0.6 in /usr/local/lib/python3.7/dist-packages (from spacy) (2.0.8)\n",
            "Requirement already satisfied: preshed<3.1.0,>=3.0.2 in /usr/local/lib/python3.7/dist-packages (from spacy) (3.0.7)\n",
            "Requirement already satisfied: jinja2 in /usr/local/lib/python3.7/dist-packages (from spacy) (2.11.3)\n",
            "Requirement already satisfied: murmurhash<1.1.0,>=0.28.0 in /usr/local/lib/python3.7/dist-packages (from spacy) (1.0.8)\n",
            "Requirement already satisfied: numpy>=1.15.0 in /usr/local/lib/python3.7/dist-packages (from spacy) (1.21.6)\n",
            "Requirement already satisfied: zipp>=0.5 in /usr/local/lib/python3.7/dist-packages (from catalogue<2.1.0,>=2.0.6->spacy) (3.8.1)\n",
            "Requirement already satisfied: pyparsing!=3.0.5,>=2.0.2 in /usr/local/lib/python3.7/dist-packages (from packaging>=20.0->spacy) (3.0.9)\n",
            "Requirement already satisfied: smart-open<6.0.0,>=5.2.1 in /usr/local/lib/python3.7/dist-packages (from pathy>=0.3.5->spacy) (5.2.1)\n",
            "Requirement already satisfied: certifi>=2017.4.17 in /usr/local/lib/python3.7/dist-packages (from requests<3.0.0,>=2.13.0->spacy) (2022.6.15)\n",
            "Requirement already satisfied: charset-normalizer<3,>=2 in /usr/local/lib/python3.7/dist-packages (from requests<3.0.0,>=2.13.0->spacy) (2.1.1)\n",
            "Requirement already satisfied: idna<4,>=2.5 in /usr/local/lib/python3.7/dist-packages (from requests<3.0.0,>=2.13.0->spacy) (2.10)\n",
            "Requirement already satisfied: urllib3<1.27,>=1.21.1 in /usr/local/lib/python3.7/dist-packages (from requests<3.0.0,>=2.13.0->spacy) (1.26.12)\n",
            "Requirement already satisfied: blis<0.8.0,>=0.7.8 in /usr/local/lib/python3.7/dist-packages (from thinc<8.2.0,>=8.1.0->spacy) (0.7.8)\n",
            "Requirement already satisfied: click<9.0.0,>=7.1.1 in /usr/local/lib/python3.7/dist-packages (from typer<0.5.0,>=0.3.0->spacy) (7.1.2)\n",
            "Requirement already satisfied: MarkupSafe>=0.23 in /usr/local/lib/python3.7/dist-packages (from jinja2->spacy) (2.0.1)\n",
            "\u001b[33mWARNING: Running pip as the 'root' user can result in broken permissions and conflicting behaviour with the system package manager. It is recommended to use a virtual environment instead: https://pip.pypa.io/warnings/venv\u001b[0m\u001b[33m\n",
            "\u001b[0m"
          ]
        }
      ]
    },
    {
      "cell_type": "code",
      "source": [
        "from pipelines import pipeline"
      ],
      "metadata": {
        "id": "YhkKvsEhN_bH"
      },
      "execution_count": 24,
      "outputs": []
    },
    {
      "cell_type": "code",
      "source": [
        "nlp = pipeline(\"question-generation\", model=\"valhalla/t5-base-qg-hl\")"
      ],
      "metadata": {
        "id": "D3yOKXbwl8Do"
      },
      "execution_count": 41,
      "outputs": []
    },
    {
      "cell_type": "code",
      "source": [
        "for i in graph_mapping.values():\n",
        "   for j in range(len(i)):\n",
        "       try:\n",
        "         print(nlp(i[j]))\n",
        "       except ValueError as e:\n",
        "         print(e)"
      ],
      "metadata": {
        "colab": {
          "base_uri": "https://localhost:8080/"
        },
        "id": "o0PG7ai6weU_",
        "outputId": "b74926c0-71d3-4a17-c7c5-bb109a20fe3c"
      },
      "execution_count": 45,
      "outputs": [
        {
          "output_type": "stream",
          "name": "stdout",
          "text": [
            "[{'answer': 'RNAvirus', 'question': 'Coronaviruses are a group of what?'}, {'answer': 'mild to lethal', 'question': 'What is the range of respiratory tract infections caused by Coronaviruses?'}]\n",
            "[{'answer': 'Orthocoronavirinae', 'question': 'What subfamily do Coronaviruses belong to?'}]\n",
            "[{'answer': '26 to 32 kilobases', 'question': 'What is the genome size of coronaviruses?'}]\n",
            "[{'answer': 'electron microscopy', 'question': 'What technique is used to examine virions?'}, {'answer': 'virions', 'question': 'What is the infective form of a virus called?'}]\n",
            "[{'answer': 'coronavirus', 'question': 'What name is derived from Latin corona?'}, {'answer': 'Greek', 'question': 'From what language is coronavirus derived?'}, {'answer': 'wreath', 'question': 'What does coronavirus mean?'}]\n",
            "[{'answer': 'coronavirus', 'question': 'What name is derived from Latin corona?'}, {'answer': 'Greek', 'question': 'From what language is coronavirus derived?'}, {'answer': 'wreath', 'question': 'What does coronavirus mean?'}]\n",
            "[{'answer': '1968', 'question': 'When was the word \"viruses\" first used in print?'}, {'answer': 'Nature', 'question': 'In what journal was the word \"viruses\" first used?'}]\n",
            "[{'answer': 'Orthocoronavirinae', 'question': 'What subfamily do Coronaviruses belong to?'}]\n",
            "[{'answer': 'Orthocoronavirinae', 'question': 'The common name coronavirus refers to any member of what subfamily?'}]\n",
            "[{'answer': 'club-shaped spikes', 'question': \"What type of spikes are on a star's surface?\"}, {'answer': 'electron micrographs', 'question': 'In what kind of imaging do the club-shaped spikes project from their surface?'}]\n",
            "[{'answer': 'viral spike peplomers', 'question': 'What are proteins on the surface of a virus called?'}, {'answer': 'proteins', 'question': 'What are the spike peplomers?'}]\n",
            "[{'answer': 'RNAvirus', 'question': 'Coronaviruses are a group of what?'}, {'answer': 'mild to lethal', 'question': 'What is the range of respiratory tract infections caused by Coronaviruses?'}]\n",
            "[{'answer': 'RNAvirus', 'question': 'Coronaviruses are a group of what?'}, {'answer': 'mild to lethal', 'question': 'What is the range of respiratory tract infections caused by Coronaviruses?'}]\n",
            "[{'answer': 'hepatitis and encephalomyelitis', 'question': 'What do mice cause?'}, {'answer': 'diarrhea', 'question': 'What does hepatitis cause in cows and pigs?'}, {'answer': 'mice', 'question': 'In what animal do hepatitis and encephalomyelitis occur?'}]\n",
            "[{'answer': 'hepatitis and encephalomyelitis', 'question': 'What do mice cause?'}, {'answer': 'diarrhea', 'question': 'What does hepatitis cause in cows and pigs?'}, {'answer': 'mice', 'question': 'In what animal do hepatitis and encephalomyelitis occur?'}]\n",
            "[{'answer': 'RNAvirus', 'question': 'Coronaviruses are a group of what?'}, {'answer': 'mild to lethal', 'question': 'What is the range of respiratory tract infections caused by Coronaviruses?'}]\n",
            "[{'answer': 'SARS, MERS and COVID-19', 'question': 'What are some of the more lethal illnesses that can cause the pandemic?'}]\n",
            "[{'answer': '1971', 'question': 'When was the scientific name Coronavirus accepted as a genus name by the International Committee for the Nomenclature of Viruses?'}, {'answer': 'International Committee on Taxonomy of Viruses', 'question': 'What was the new name of the International Committee for the Nomenclature of Viruses?'}]\n",
            "[{'answer': '1971', 'question': 'When was the scientific name Coronavirus accepted as a genus name by the International Committee for the Nomenclature of Viruses?'}, {'answer': 'International Committee on Taxonomy of Viruses', 'question': 'What was the new name of the International Committee for the Nomenclature of Viruses?'}]\n",
            "[{'answer': 'RNAvirus', 'question': 'Coronaviruses are a group of what?'}, {'answer': 'mild to lethal', 'question': 'What is the range of respiratory tract infections caused by Coronaviruses?'}]\n",
            "[{'answer': 'RNAvirus', 'question': 'Coronaviruses are a group of what?'}, {'answer': 'mild to lethal', 'question': 'What is the range of respiratory tract infections caused by Coronaviruses?'}]\n",
            "[{'answer': 'RNAvirus', 'question': 'Coronaviruses are a group of what?'}, {'answer': 'mild to lethal', 'question': 'What is the range of respiratory tract infections caused by Coronaviruses?'}]\n",
            "[{'answer': 'RNAvirus', 'question': 'Coronaviruses are a group of what?'}, {'answer': 'mild to lethal', 'question': 'What is the range of respiratory tract infections caused by Coronaviruses?'}]\n",
            "[{'answer': 'RNAvirus', 'question': 'Coronaviruses are a group of what?'}, {'answer': 'mild to lethal', 'question': 'What is the range of respiratory tract infections caused by Coronaviruses?'}]\n",
            "[{'answer': 'SARS, MERS and COVID-19', 'question': 'What are some of the more lethal illnesses that can cause the pandemic?'}]\n",
            "[{'answer': 'Orthocoronavirinae', 'question': 'The common name coronavirus refers to any member of what subfamily?'}]\n",
            "[{'answer': 'club-shaped spikes', 'question': \"What type of spikes are on a star's surface?\"}, {'answer': 'electron micrographs', 'question': 'In what kind of imaging do the club-shaped spikes project from their surface?'}]\n",
            "[{'answer': '1971', 'question': 'When was the scientific name Coronavirus accepted as a genus name by the International Committee for the Nomenclature of Viruses?'}, {'answer': 'International Committee on Taxonomy of Viruses', 'question': 'What was the new name of the International Committee for the Nomenclature of Viruses?'}]\n",
            "[{'answer': 'RNAvirus', 'question': 'Coronaviruses are a group of what?'}, {'answer': 'mild to lethal', 'question': 'What is the range of respiratory tract infections caused by Coronaviruses?'}]\n",
            "[{'answer': 'electron microscopy', 'question': 'What technique is used to examine virions?'}, {'answer': 'virions', 'question': 'What is the infective form of a virus called?'}]\n",
            "[{'answer': '1971', 'question': 'When was the scientific name Coronavirus accepted as a genus name by the International Committee for the Nomenclature of Viruses?'}, {'answer': 'International Committee on Taxonomy of Viruses', 'question': 'What was the new name of the International Committee for the Nomenclature of Viruses?'}]\n",
            "[{'answer': 'June Almeida and David Tyrrell', 'question': 'Who coined the name coronavirus?'}]\n",
            "[{'answer': '1968', 'question': 'When was the word \"viruses\" first used in print?'}, {'answer': 'Nature', 'question': 'In what journal was the word \"viruses\" first used?'}]\n",
            "[{'answer': 'club-shaped spikes', 'question': \"What type of spikes are on a star's surface?\"}, {'answer': 'electron micrographs', 'question': 'In what kind of imaging do the club-shaped spikes project from their surface?'}]\n",
            "[{'answer': 'helical symmetry', 'question': 'What is the nucleocapsid of the bacteria?'}, {'answer': 'positive-sense', 'question': 'What type of single-stranded RNA genome does the bacteria have?'}]\n",
            "[{'answer': 'club-shaped spikes', 'question': \"What type of spikes are on a star's surface?\"}, {'answer': 'electron micrographs', 'question': 'In what kind of imaging do the club-shaped spikes project from their surface?'}]\n"
          ]
        }
      ]
    },
    {
      "cell_type": "markdown",
      "source": [
        "# Data Frame for Question & Answer"
      ],
      "metadata": {
        "id": "YB7WnkngTmSB"
      }
    },
    {
      "cell_type": "code",
      "source": [
        "cols = ['Question', 'Answer']\n",
        "question_answer=pd.DataFrame(nlp(i[j]))\n",
        "question_answer"
      ],
      "metadata": {
        "colab": {
          "base_uri": "https://localhost:8080/",
          "height": 168
        },
        "id": "GuT8rUgVQbvF",
        "outputId": "47b80516-d273-44e4-ee07-e15d97c5def4"
      },
      "execution_count": 48,
      "outputs": [
        {
          "output_type": "stream",
          "name": "stderr",
          "text": [
            "/usr/local/lib/python3.7/dist-packages/transformers/modeling_utils.py:1500: UserWarning: __floordiv__ is deprecated, and its behavior will change in a future version of pytorch. It currently rounds toward 0 (like the 'trunc' function NOT 'floor'). This results in incorrect rounding for negative values. To keep the current behavior, use torch.div(a, b, rounding_mode='trunc'), or for actual floor division, use torch.div(a, b, rounding_mode='floor').\n",
            "  beam_id = beam_token_id // vocab_size\n"
          ]
        },
        {
          "output_type": "execute_result",
          "data": {
            "text/plain": [
              "                 answer                                           question\n",
              "0    club-shaped spikes       What type of spikes are on a star's surface?\n",
              "1  electron micrographs  In what kind of imaging do the club-shaped spi..."
            ],
            "text/html": [
              "\n",
              "  <div id=\"df-fd4758aa-670a-4d75-a1ba-dbc66e27ff60\">\n",
              "    <div class=\"colab-df-container\">\n",
              "      <div>\n",
              "<style scoped>\n",
              "    .dataframe tbody tr th:only-of-type {\n",
              "        vertical-align: middle;\n",
              "    }\n",
              "\n",
              "    .dataframe tbody tr th {\n",
              "        vertical-align: top;\n",
              "    }\n",
              "\n",
              "    .dataframe thead th {\n",
              "        text-align: right;\n",
              "    }\n",
              "</style>\n",
              "<table border=\"1\" class=\"dataframe\">\n",
              "  <thead>\n",
              "    <tr style=\"text-align: right;\">\n",
              "      <th></th>\n",
              "      <th>answer</th>\n",
              "      <th>question</th>\n",
              "    </tr>\n",
              "  </thead>\n",
              "  <tbody>\n",
              "    <tr>\n",
              "      <th>0</th>\n",
              "      <td>club-shaped spikes</td>\n",
              "      <td>What type of spikes are on a star's surface?</td>\n",
              "    </tr>\n",
              "    <tr>\n",
              "      <th>1</th>\n",
              "      <td>electron micrographs</td>\n",
              "      <td>In what kind of imaging do the club-shaped spi...</td>\n",
              "    </tr>\n",
              "  </tbody>\n",
              "</table>\n",
              "</div>\n",
              "      <button class=\"colab-df-convert\" onclick=\"convertToInteractive('df-fd4758aa-670a-4d75-a1ba-dbc66e27ff60')\"\n",
              "              title=\"Convert this dataframe to an interactive table.\"\n",
              "              style=\"display:none;\">\n",
              "        \n",
              "  <svg xmlns=\"http://www.w3.org/2000/svg\" height=\"24px\"viewBox=\"0 0 24 24\"\n",
              "       width=\"24px\">\n",
              "    <path d=\"M0 0h24v24H0V0z\" fill=\"none\"/>\n",
              "    <path d=\"M18.56 5.44l.94 2.06.94-2.06 2.06-.94-2.06-.94-.94-2.06-.94 2.06-2.06.94zm-11 1L8.5 8.5l.94-2.06 2.06-.94-2.06-.94L8.5 2.5l-.94 2.06-2.06.94zm10 10l.94 2.06.94-2.06 2.06-.94-2.06-.94-.94-2.06-.94 2.06-2.06.94z\"/><path d=\"M17.41 7.96l-1.37-1.37c-.4-.4-.92-.59-1.43-.59-.52 0-1.04.2-1.43.59L10.3 9.45l-7.72 7.72c-.78.78-.78 2.05 0 2.83L4 21.41c.39.39.9.59 1.41.59.51 0 1.02-.2 1.41-.59l7.78-7.78 2.81-2.81c.8-.78.8-2.07 0-2.86zM5.41 20L4 18.59l7.72-7.72 1.47 1.35L5.41 20z\"/>\n",
              "  </svg>\n",
              "      </button>\n",
              "      \n",
              "  <style>\n",
              "    .colab-df-container {\n",
              "      display:flex;\n",
              "      flex-wrap:wrap;\n",
              "      gap: 12px;\n",
              "    }\n",
              "\n",
              "    .colab-df-convert {\n",
              "      background-color: #E8F0FE;\n",
              "      border: none;\n",
              "      border-radius: 50%;\n",
              "      cursor: pointer;\n",
              "      display: none;\n",
              "      fill: #1967D2;\n",
              "      height: 32px;\n",
              "      padding: 0 0 0 0;\n",
              "      width: 32px;\n",
              "    }\n",
              "\n",
              "    .colab-df-convert:hover {\n",
              "      background-color: #E2EBFA;\n",
              "      box-shadow: 0px 1px 2px rgba(60, 64, 67, 0.3), 0px 1px 3px 1px rgba(60, 64, 67, 0.15);\n",
              "      fill: #174EA6;\n",
              "    }\n",
              "\n",
              "    [theme=dark] .colab-df-convert {\n",
              "      background-color: #3B4455;\n",
              "      fill: #D2E3FC;\n",
              "    }\n",
              "\n",
              "    [theme=dark] .colab-df-convert:hover {\n",
              "      background-color: #434B5C;\n",
              "      box-shadow: 0px 1px 3px 1px rgba(0, 0, 0, 0.15);\n",
              "      filter: drop-shadow(0px 1px 2px rgba(0, 0, 0, 0.3));\n",
              "      fill: #FFFFFF;\n",
              "    }\n",
              "  </style>\n",
              "\n",
              "      <script>\n",
              "        const buttonEl =\n",
              "          document.querySelector('#df-fd4758aa-670a-4d75-a1ba-dbc66e27ff60 button.colab-df-convert');\n",
              "        buttonEl.style.display =\n",
              "          google.colab.kernel.accessAllowed ? 'block' : 'none';\n",
              "\n",
              "        async function convertToInteractive(key) {\n",
              "          const element = document.querySelector('#df-fd4758aa-670a-4d75-a1ba-dbc66e27ff60');\n",
              "          const dataTable =\n",
              "            await google.colab.kernel.invokeFunction('convertToInteractive',\n",
              "                                                     [key], {});\n",
              "          if (!dataTable) return;\n",
              "\n",
              "          const docLinkHtml = 'Like what you see? Visit the ' +\n",
              "            '<a target=\"_blank\" href=https://colab.research.google.com/notebooks/data_table.ipynb>data table notebook</a>'\n",
              "            + ' to learn more about interactive tables.';\n",
              "          element.innerHTML = '';\n",
              "          dataTable['output_type'] = 'display_data';\n",
              "          await google.colab.output.renderOutput(dataTable, element);\n",
              "          const docLink = document.createElement('div');\n",
              "          docLink.innerHTML = docLinkHtml;\n",
              "          element.appendChild(docLink);\n",
              "        }\n",
              "      </script>\n",
              "    </div>\n",
              "  </div>\n",
              "  "
            ]
          },
          "metadata": {},
          "execution_count": 48
        }
      ]
    }
  ]
}