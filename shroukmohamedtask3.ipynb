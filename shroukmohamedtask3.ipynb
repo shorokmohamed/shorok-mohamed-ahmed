{
 "cells": [
  {
   "cell_type": "code",
   "execution_count": 1,
   "id": "52d1b57a",
   "metadata": {},
   "outputs": [],
   "source": [
    "from pyopenms import *\n",
    "from urllib.request import urlretrieve"
   ]
  },
  {
   "cell_type": "code",
   "execution_count": 2,
   "id": "4002579d",
   "metadata": {},
   "outputs": [
    {
     "name": "stdout",
     "output_type": "stream",
     "text": [
      "Trypsin\n"
     ]
    }
   ],
   "source": [
    "dig = ProteaseDigestion()\n",
    "print(dig.getEnzymeName())\n"
   ]
  },
  {
   "cell_type": "code",
   "execution_count": 5,
   "id": "cb3af8f8",
   "metadata": {},
   "outputs": [
    {
     "name": "stdout",
     "output_type": "stream",
     "text": [
      "FPTDDDDKIVGGYTCAANSIPYQVSLNSGSHFCGGSLINSQWVVSAAHCYKSRIQVRLGEHNIDVLEGNEQFINAAKIITHPNFNGNTLDNDIMLIKLSSPATLNSRVATVSLPRSCAAAGTECLISGWGNTKSSGSSYPSLLQCLKAPVLSDSSCKSSYPGQITGNMICVGFLEGGKDSCQGDSGGPVVCNGQLQGIVSWGYGCAQKNKPGVYTKVCNYVNWIQQTIAAN\n"
     ]
    }
   ],
   "source": [
    "bsa = \"\".join([l.strip() for l in open(\"bb.fasta\").readlines()[1:]])\n",
    "bsa = AASequence.fromString(bsa)\n",
    "print(bsa)"
   ]
  },
  {
   "cell_type": "code",
   "execution_count": 16,
   "id": "7e836d98",
   "metadata": {},
   "outputs": [
    {
     "name": "stdout",
     "output_type": "stream",
     "text": [
      "MSDSQQSIK\n",
      "VLEELFQK\n",
      "LSVATADNRHEIASEVASFLNGNIIEHDVPEHFFGELAK\n",
      "GIK\n",
      "DK\n",
      "K\n",
      "TAANAMQAVAHIANQSNLSPSVEPYIVQLVPAICTNAGNK\n",
      "DK\n",
      "EIQSVASETLISIVNAVNPVAIK\n",
      "ALLPHLTNAIVETNK\n",
      "WQEK\n",
      "IAILAAISAMVDAAK\n",
      "DQVALRMPELIPVLSETMWDTK\n",
      "K\n",
      "EVK\n",
      "AAATAAMTK\n",
      "ATETVDNK\n",
      "DIERFIPSLIQCIADPTEVPETVHLLGATTFVAEVTPATLSIMVPLLSRGLNERETGIK\n",
      "RK\n",
      "SAVIIDNMCK\n",
      "LVEDPQVIAPFLGK\n",
      "LLPGLK\n",
      "SNFATIADPEAREVTLRALK\n",
      "TLRRVGNVGEDDAIPEVSHAGDVSTTLQVVNELLK\n",
      "DETVAPRFK\n",
      "IVVEYIAAIGADLIDERIIDQQAWFTHITPYMTIFLHEK\n",
      "K\n",
      "AK\n",
      "DILDEFRK\n",
      "RAVDNIPVGPNFDDEEDEGEDLCNCEFSLAYGAK\n",
      "ILLNK\n",
      "TQLRLK\n",
      "RARRYGICGPNGCGK\n",
      "STLMRAIANGQVDGFPTQEECRTVYVEHDIDGTHSDTSVLDFVFESGVGTK\n",
      "EAIK\n",
      "DK\n",
      "LIEFGFTDEMIAMPISALSGGWK\n",
      "MK\n",
      "LALARAVLRNADILLLDEPTNHLDTVNVAWLVNYLNTCGITSITISHDSVFLDNVCEYIINYEGLK\n",
      "LRK\n",
      "YK\n",
      "GNFTEFVK\n",
      "K\n",
      "CPAAK\n",
      "AYEELSNTDLEFK\n",
      "FPEPGYLEGVK\n",
      "TK\n",
      "QK\n",
      "AIVK\n",
      "VTNMEFQYPGTSKPQITDINFQCSLSSRIAVIGPNGAGK\n",
      "STLINVLTGELLPTSGEVYTHENCRIAYIK\n",
      "QHAFAHIESHLDK\n",
      "TPSEYIQWRFQTGEDRETMDRANRQINENDAEAMNK\n",
      "IFK\n",
      "IEGTPRRIAGIHSRRK\n",
      "FK\n",
      "NTYEYECSFLLGENIGMK\n",
      "SERWVPMMSVDNAWIPRGELVESHSK\n",
      "MVAEVDMK\n",
      "EALASGQFRPLTRK\n",
      "EIEEHCSMLGLDPEIVSHSRIRGLSGGQK\n",
      "VK\n",
      "LVLAAGTWQRPHLIVLDEPTNYLDRDSLGALSK\n",
      "ALK\n",
      "EFEGGVIIITHSAEFTK\n",
      "NLTEEVWAVK\n",
      "DGRMTPSGHNWVSGQGAGPRIEK\n",
      "K\n",
      "EDEEDK\n",
      "FDAMGNK\n",
      "IAGGK\n",
      "K\n",
      "K\n",
      "K\n",
      "K\n",
      "LSSAELRK\n",
      "K\n",
      "K\n",
      "K\n",
      "ERMK\n",
      "K\n",
      "K\n",
      "K\n",
      "ELGDAYVSSDEEF\n"
     ]
    }
   ],
   "source": [
    "\n",
    "result = []\n",
    "dig.digest(bsa, result)\n",
    "\n",
    "for s in result:\n",
    "    print(s.toString())"
   ]
  },
  {
   "cell_type": "code",
   "execution_count": 8,
   "id": "57394266",
   "metadata": {},
   "outputs": [
    {
     "name": "stdout",
     "output_type": "stream",
     "text": [
      "FPTDDDDKIVGGYTCAANSIPYQVSLNSGSHFCGGSLINSQWVVSAAHCYKSRIQVRLGEHNIDVLEGNEQFINAAKIITHPNFNGNTLDNDIMLIKLSSPATLNSRVATVSLPRSCAAAGTECLISGWGNTKSSGSSYPSLLQCLKAPVLSDSSCKSSYPGQITGNMICVGFLEGGKDSCQGDSGGPVVCNGQLQGIVSWGYGCAQKNKPGVYTKVCNYVNWIQQTIAAN\n"
     ]
    }
   ],
   "source": [
    "yeast = \"\".join([l.strip() for l in open(\"yeast2.fasta\").readlines()[1:]])\n",
    "yeast = AASequence.fromString(yeast)\n",
    "print(bsa)"
   ]
  },
  {
   "cell_type": "code",
   "execution_count": 11,
   "id": "efbfb5ad",
   "metadata": {},
   "outputs": [
    {
     "name": "stdout",
     "output_type": "stream",
     "text": [
      "MSDSQQSIK\n",
      "VLEELFQK\n",
      "LSVATADNR\n",
      "HEIASEVASFLNGNIIEHDVPEHFFGELAK\n",
      "GIK\n",
      "DK\n",
      "K\n",
      "TAANAMQAVAHIANQSNLSPSVEPYIVQLVPAICTNAGNK\n",
      "DK\n",
      "EIQSVASETLISIVNAVNPVAIK\n",
      "ALLPHLTNAIVETNK\n",
      "WQEK\n",
      "IAILAAISAMVDAAK\n",
      "DQVALR\n",
      "MPELIPVLSETMWDTK\n",
      "K\n",
      "EVK\n",
      "AAATAAMTK\n",
      "ATETVDNK\n",
      "DIER\n",
      "FIPSLIQCIADPTEVPETVHLLGATTFVAEVTPATLSIMVPLLSR\n",
      "GLNER\n",
      "ETGIK\n",
      "R\n",
      "K\n",
      "SAVIIDNMCK\n",
      "LVEDPQVIAPFLGK\n",
      "LLPGLK\n",
      "SNFATIADPEAR\n",
      "EVTLR\n",
      "ALK\n",
      "TLR\n",
      "R\n",
      "VGNVGEDDAIPEVSHAGDVSTTLQVVNELLK\n",
      "DETVAPR\n",
      "FK\n",
      "IVVEYIAAIGADLIDER\n",
      "IIDQQAWFTHITPYMTIFLHEK\n",
      "K\n",
      "AK\n",
      "DILDEFR\n",
      "K\n",
      "R\n",
      "AVDNIPVGPNFDDEEDEGEDLCNCEFSLAYGAK\n",
      "ILLNK\n",
      "TQLR\n",
      "LK\n",
      "R\n",
      "AR\n",
      "R\n",
      "YGICGPNGCGK\n",
      "STLMR\n",
      "AIANGQVDGFPTQEECR\n",
      "TVYVEHDIDGTHSDTSVLDFVFESGVGTK\n",
      "EAIK\n",
      "DK\n",
      "LIEFGFTDEMIAMPISALSGGWK\n",
      "MK\n",
      "LALAR\n",
      "AVLR\n",
      "NADILLLDEPTNHLDTVNVAWLVNYLNTCGITSITISHDSVFLDNVCEYIINYEGLK\n",
      "LR\n",
      "K\n",
      "YK\n",
      "GNFTEFVK\n",
      "K\n",
      "CPAAK\n",
      "AYEELSNTDLEFK\n",
      "FPEPGYLEGVK\n",
      "TK\n",
      "QK\n",
      "AIVK\n",
      "VTNMEFQYPGTSKPQITDINFQCSLSSR\n",
      "IAVIGPNGAGK\n",
      "STLINVLTGELLPTSGEVYTHENCR\n",
      "IAYIK\n",
      "QHAFAHIESHLDK\n",
      "TPSEYIQWR\n",
      "FQTGEDR\n",
      "ETMDR\n",
      "ANR\n",
      "QINENDAEAMNK\n",
      "IFK\n",
      "IEGTPR\n",
      "R\n",
      "IAGIHSR\n",
      "R\n",
      "K\n",
      "FK\n",
      "NTYEYECSFLLGENIGMK\n",
      "SER\n",
      "WVPMMSVDNAWIPR\n",
      "GELVESHSK\n",
      "MVAEVDMK\n",
      "EALASGQFRPLTR\n",
      "K\n",
      "EIEEHCSMLGLDPEIVSHSR\n",
      "IR\n",
      "GLSGGQK\n",
      "VK\n",
      "LVLAAGTWQRPHLIVLDEPTNYLDR\n",
      "DSLGALSK\n",
      "ALK\n",
      "EFEGGVIIITHSAEFTK\n",
      "NLTEEVWAVK\n",
      "DGR\n",
      "MTPSGHNWVSGQGAGPR\n",
      "IEK\n",
      "K\n",
      "EDEEDK\n",
      "FDAMGNK\n",
      "IAGGK\n",
      "K\n",
      "K\n",
      "K\n",
      "K\n",
      "LSSAELR\n",
      "K\n",
      "K\n",
      "K\n",
      "K\n",
      "ER\n",
      "MK\n",
      "K\n",
      "K\n",
      "K\n",
      "ELGDAYVSSDEEF\n"
     ]
    }
   ],
   "source": [
    "result = []\n",
    "dig.digest(yeast, result)\n",
    "\n",
    "for s in result:\n",
    "    print(s.toString())"
   ]
  },
  {
   "cell_type": "code",
   "execution_count": 25,
   "id": "75748df1",
   "metadata": {},
   "outputs": [
    {
     "name": "stdout",
     "output_type": "stream",
     "text": [
      "33\n",
      "[b'Lys-C', b'Trypsin/P', b'V8-DE', b'leukocyte elastase', b'Lys-C/P', b'proline endopeptidase', b'V8-E', b'Lys-N', b'glutamyl endopeptidase', b'Alpha-lytic protease', b'PepsinA', b'TrypChymo', b'2-iodobenzoate', b'Arg-C/P', b'Asp-N', b'Trypsin', b'Asp-N_ambic', b'Chymotrypsin', b'Chymotrypsin/P', b'CNBr', b'Formic_acid', b'Arg-C', b'Asp-N/B', b'PepsinA + P', b'cyanogen-bromide', b'no cleavage', b'elastase-trypsin-chymotrypsin', b'iodosobenzoate', b'staphylococcal protease/D', b'Glu-C+P', b'unspecific cleavage', b'proline-endopeptidase/HKR', b'Clostripain/P']\n"
     ]
    }
   ],
   "source": [
    "names = []\n",
    "ProteaseDB().getAllNames(names)\n",
    "print(len(names))\n",
    "print(names)"
   ]
  },
  {
   "cell_type": "code",
   "execution_count": 12,
   "id": "4cd8b41f",
   "metadata": {},
   "outputs": [
    {
     "name": "stdout",
     "output_type": "stream",
     "text": [
      "Lys-C cuts after K if not followed by P.\n",
      "(?<=[KX])(?!P)\n"
     ]
    }
   ],
   "source": [
    "e = ProteaseDB().getEnzyme('Lys-C')\n",
    "print(e.getRegExDescription())\n",
    "print(e.getRegEx())"
   ]
  },
  {
   "cell_type": "code",
   "execution_count": 13,
   "id": "cd1382d9",
   "metadata": {},
   "outputs": [
    {
     "name": "stdout",
     "output_type": "stream",
     "text": [
      "Trypsin/P cuts after K or R.\n",
      "(?<=[KRX])\n"
     ]
    }
   ],
   "source": [
    "e = ProteaseDB().getEnzyme('Trypsin/P')\n",
    "print(e.getRegExDescription())\n",
    "print(e.getRegEx())"
   ]
  },
  {
   "cell_type": "code",
   "execution_count": 14,
   "id": "03315617",
   "metadata": {},
   "outputs": [
    {
     "name": "stdout",
     "output_type": "stream",
     "text": [
      "FPTDDDDK\n",
      "IVGGYTCAANSIPYQVSLNSGSHFCGGSLINSQWVVSAAHCYK\n",
      "SRIQVRLGEHNIDVLEGNEQFINAAK\n",
      "IITHPNFNGNTLDNDIMLIK\n",
      "LSSPATLNSRVATVSLPRSCAAAGTECLISGWGNTK\n",
      "SSGSSYPSLLQCLK\n",
      "APVLSDSSCK\n",
      "SSYPGQITGNMICVGFLEGGK\n",
      "DSCQGDSGGPVVCNGQLQGIVSWGYGCAQK\n",
      "NKPGVYTK\n",
      "VCNYVNWIQQTIAAN\n"
     ]
    }
   ],
   "source": [
    "dig = ProteaseDigestion()\n",
    "dig.setEnzyme('Lys-C')\n",
    "bsa = \"\".join([l.strip() for l in open(\"bb.fasta\").readlines()[1:]])\n",
    "bsa = AASequence.fromString(bsa)\n",
    "result = []\n",
    "dig.digest(bsa, result)\n",
    "\n",
    "for s in result:\n",
    "    print(s.toString())"
   ]
  },
  {
   "cell_type": "code",
   "execution_count": 15,
   "id": "cdffc784",
   "metadata": {},
   "outputs": [
    {
     "name": "stdout",
     "output_type": "stream",
     "text": [
      "MSDSQQSIK\n",
      "VLEELFQK\n",
      "LSVATADNRHEIASEVASFLNGNIIEHDVPEHFFGELAK\n",
      "GIK\n",
      "DK\n",
      "K\n",
      "TAANAMQAVAHIANQSNLSPSVEPYIVQLVPAICTNAGNK\n",
      "DK\n",
      "EIQSVASETLISIVNAVNPVAIK\n",
      "ALLPHLTNAIVETNK\n",
      "WQEK\n",
      "IAILAAISAMVDAAK\n",
      "DQVALRMPELIPVLSETMWDTK\n",
      "K\n",
      "EVK\n",
      "AAATAAMTK\n",
      "ATETVDNK\n",
      "DIERFIPSLIQCIADPTEVPETVHLLGATTFVAEVTPATLSIMVPLLSRGLNERETGIK\n",
      "RK\n",
      "SAVIIDNMCK\n",
      "LVEDPQVIAPFLGK\n",
      "LLPGLK\n",
      "SNFATIADPEAREVTLRALK\n",
      "TLRRVGNVGEDDAIPEVSHAGDVSTTLQVVNELLK\n",
      "DETVAPRFK\n",
      "IVVEYIAAIGADLIDERIIDQQAWFTHITPYMTIFLHEK\n",
      "K\n",
      "AK\n",
      "DILDEFRK\n",
      "RAVDNIPVGPNFDDEEDEGEDLCNCEFSLAYGAK\n",
      "ILLNK\n",
      "TQLRLK\n",
      "RARRYGICGPNGCGK\n",
      "STLMRAIANGQVDGFPTQEECRTVYVEHDIDGTHSDTSVLDFVFESGVGTK\n",
      "EAIK\n",
      "DK\n",
      "LIEFGFTDEMIAMPISALSGGWK\n",
      "MK\n",
      "LALARAVLRNADILLLDEPTNHLDTVNVAWLVNYLNTCGITSITISHDSVFLDNVCEYIINYEGLK\n",
      "LRK\n",
      "YK\n",
      "GNFTEFVK\n",
      "K\n",
      "CPAAK\n",
      "AYEELSNTDLEFK\n",
      "FPEPGYLEGVK\n",
      "TK\n",
      "QK\n",
      "AIVK\n",
      "VTNMEFQYPGTSKPQITDINFQCSLSSRIAVIGPNGAGK\n",
      "STLINVLTGELLPTSGEVYTHENCRIAYIK\n",
      "QHAFAHIESHLDK\n",
      "TPSEYIQWRFQTGEDRETMDRANRQINENDAEAMNK\n",
      "IFK\n",
      "IEGTPRRIAGIHSRRK\n",
      "FK\n",
      "NTYEYECSFLLGENIGMK\n",
      "SERWVPMMSVDNAWIPRGELVESHSK\n",
      "MVAEVDMK\n",
      "EALASGQFRPLTRK\n",
      "EIEEHCSMLGLDPEIVSHSRIRGLSGGQK\n",
      "VK\n",
      "LVLAAGTWQRPHLIVLDEPTNYLDRDSLGALSK\n",
      "ALK\n",
      "EFEGGVIIITHSAEFTK\n",
      "NLTEEVWAVK\n",
      "DGRMTPSGHNWVSGQGAGPRIEK\n",
      "K\n",
      "EDEEDK\n",
      "FDAMGNK\n",
      "IAGGK\n",
      "K\n",
      "K\n",
      "K\n",
      "K\n",
      "LSSAELRK\n",
      "K\n",
      "K\n",
      "K\n",
      "ERMK\n",
      "K\n",
      "K\n",
      "K\n",
      "ELGDAYVSSDEEF\n"
     ]
    }
   ],
   "source": [
    "bsa = \"\".join([l.strip() for l in open(\"yeast2.fasta\").readlines()[1:]])\n",
    "bsa = AASequence.fromString(bsa)\n",
    "result = []\n",
    "dig.digest(bsa, result)\n",
    "for s in result:\n",
    "    print(s.toString())"
   ]
  }
 ],
 "metadata": {
  "kernelspec": {
   "display_name": "Python 3",
   "language": "python",
   "name": "python3"
  },
  "language_info": {
   "codemirror_mode": {
    "name": "ipython",
    "version": 3
   },
   "file_extension": ".py",
   "mimetype": "text/x-python",
   "name": "python",
   "nbconvert_exporter": "python",
   "pygments_lexer": "ipython3",
   "version": "3.8.8"
  }
 },
 "nbformat": 4,
 "nbformat_minor": 5
}
