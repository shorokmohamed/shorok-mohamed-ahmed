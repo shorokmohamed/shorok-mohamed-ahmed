{
 "cells": [
  {
   "cell_type": "code",
   "execution_count": 1,
   "id": "cfbcce35",
   "metadata": {},
   "outputs": [
    {
     "name": "stdout",
     "output_type": "stream",
     "text": [
      "Requirement already satisfied: pyopenms in c:\\users\\motaheda\\anaconda3\\lib\\site-packages (2.7.0)\n",
      "Requirement already satisfied: numpy in c:\\users\\motaheda\\anaconda3\\lib\\site-packages (from pyopenms) (1.20.1)\n",
      "Note: you may need to restart the kernel to use updated packages.\n"
     ]
    }
   ],
   "source": [
    "pip install pyopenms"
   ]
  },
  {
   "cell_type": "code",
   "execution_count": 2,
   "id": "a3cffd86",
   "metadata": {},
   "outputs": [
    {
     "name": "stdout",
     "output_type": "stream",
     "text": [
      "DFPIANGER\n",
      "DFPI\n",
      "ANGER\n",
      "DFPIANGERDFPIANGER\n",
      "1017.4879641373001\n",
      "1019.5025170708421\n",
      "509.7512585354211\n"
     ]
    }
   ],
   "source": [
    "from pyopenms import *\n",
    "seq =AASequence.fromString(\"DFPIANGER\")\n",
    "pre=seq.getPrefix(4)\n",
    "suf=seq.getSuffix(5)\n",
    "concat=seq+seq\n",
    "\n",
    "print(seq)\n",
    "print(pre)\n",
    "print(suf)\n",
    "print(concat)\n",
    "\n",
    "\n",
    "weight=seq.getMonoWeight()\n",
    "\n",
    "presector=seq.getMonoWeight(Residue.ResidueType.Full,2)\n",
    "\n",
    "mz=seq.getMZ(2)\n",
    "\n",
    "print(weight)\n",
    "print(presector)\n",
    "print(mz)"
   ]
  },
  {
   "cell_type": "code",
   "execution_count": 3,
   "id": "6f175678",
   "metadata": {},
   "outputs": [
    {
     "name": "stdout",
     "output_type": "stream",
     "text": [
      "the peptide  DFPIANGER consists of the following amino acid: \n",
      "Aspartate  :  133.0375092233\n",
      "Phenylalanine  :  165.07897935090003\n",
      "Proline  :  115.06332928709999\n",
      "Isoleucine  :  131.0946294147\n",
      "Alanine  :  89.0476792233\n",
      "Asparagine  :  132.0534932552\n",
      "Glycine  :  75.0320291595\n",
      "Glutamate  :  147.0531592871\n",
      "Arginine  :  174.1116764466\n",
      "1161.5724846477\n",
      "1017.4879641373001\n"
     ]
    }
   ],
   "source": [
    "print(\"the peptide \",str(seq),\"consists of the following amino acid: \")\n",
    "sum=0\n",
    "for amino in seq:\n",
    "    print(amino.getName(),\" : \",amino.getMonoWeight())\n",
    "    sum=sum+amino.getMonoWeight()\n",
    "print(sum)\n",
    "print(seq.getMonoWeight())"
   ]
  },
  {
   "cell_type": "code",
   "execution_count": 4,
   "id": "69ff570f",
   "metadata": {},
   "outputs": [
    {
     "name": "stdout",
     "output_type": "stream",
     "text": [
      "peptide DFPIANGER has molecular formula C44H67N13O15\n",
      "Aspartate  :  133.0375092233\n",
      "Phenylalanine  :  165.07897935090003\n",
      "Proline  :  115.06332928709999\n",
      "Isoleucine  :  131.0946294147\n",
      "Alanine  :  89.0476792233\n",
      "Asparagine  :  132.0534932552\n",
      "Glycine  :  75.0320291595\n",
      "Glutamate  :  147.0531592871\n",
      "Arginine  :  174.1116764466\n",
      "C44H83N13O23\n"
     ]
    }
   ],
   "source": [
    "s_formula=seq.getFormula()\n",
    "print(\"peptide\",seq,\"has molecular formula\",s_formula)\n",
    "\n",
    "\n",
    "f=EmpiricalFormula()\n",
    "for amino in seq:\n",
    "    print(amino.getName(),\" : \",amino.getMonoWeight())\n",
    "    sum=sum+amino.getMonoWeight()\n",
    "    c=amino.getFormula()\n",
    "    f=f+c\n",
    "print(f)"
   ]
  },
  {
   "cell_type": "code",
   "execution_count": 5,
   "id": "e9c3d267",
   "metadata": {},
   "outputs": [
    {
     "name": "stdout",
     "output_type": "stream",
     "text": [
      "===================================\n",
      "y3 ion sequence: GER\n",
      "y3 mz: 181.09514384957103\n",
      "y3 molecular formula: C13H24N6O6\n"
     ]
    }
   ],
   "source": [
    "suffix = seq.getSuffix(3) \n",
    "print(\"=\"*35)\n",
    "print(\"y3 ion sequence:\", suffix)\n",
    "y3_formula = suffix.getFormula(Residue.ResidueType.YIon, 2) \n",
    "\n",
    "print(\"y3 mz:\", suffix.getMonoWeight(Residue.ResidueType.YIon, 2) / 2.0 )\n",
    "print(\"y3 molecular formula:\", y3_formula)"
   ]
  },
  {
   "cell_type": "code",
   "execution_count": 6,
   "id": "8fc20a7f",
   "metadata": {},
   "outputs": [],
   "source": [
    "fasta=FASTAEntry()\n",
    "fasta.sequence=\"MKWVTFISLLLLFSSAYSRGVFRRDTHKSEIAHRFKDLGE\"\n",
    "fasta.description=\"BSA Bovine Albumin (partial sequence)\"\n",
    "fasta.identifier=\"BSA\"\n",
    "\n",
    "alb = FASTAEntry()\n",
    "alb.sequence = \"MKWVTFISLLFLFSSAYSRGVFRRDAHKSEVAHRFKDLGE\"  \n",
    "alb.description = \"ALB Human Albumin (partial sequence)\"\n",
    "alb.identifier = \"ALB\"\n",
    "    \n",
    "entries=[fasta,alb]\n",
    "\n",
    "f=FASTAFile()\n",
    "f.store(\"test.fasta\",entries)"
   ]
  },
  {
   "cell_type": "code",
   "execution_count": 7,
   "id": "41d22fdf",
   "metadata": {},
   "outputs": [
    {
     "name": "stdout",
     "output_type": "stream",
     "text": [
      "2\n",
      "the id :  BSA . the sequence :  MKWVTFISLLLLFSSAYSRGVFRRDTHKSEIAHRFKDLGE . the describtion :  BSA Bovine Albumin (partial sequence)\n",
      "the id :  ALB . the sequence :  MKWVTFISLLFLFSSAYSRGVFRRDAHKSEVAHRFKDLGE . the describtion :  ALB Human Albumin (partial sequence)\n"
     ]
    }
   ],
   "source": [
    "entries=[]\n",
    "f=FASTAFile()\n",
    "f.load(\"test.fasta\",entries)\n",
    "print(len(entries))\n",
    "for seq in entries:\n",
    "    print(\"the id : \",seq.identifier,\". the sequence : \",seq.sequence,\". the describtion : \",seq.description)"
   ]
  },
  {
   "cell_type": "code",
   "execution_count": null,
   "id": "9c9ab27b",
   "metadata": {},
   "outputs": [],
   "source": []
  }
 ],
 "metadata": {
  "kernelspec": {
   "display_name": "Python 3",
   "language": "python",
   "name": "python3"
  },
  "language_info": {
   "codemirror_mode": {
    "name": "ipython",
    "version": 3
   },
   "file_extension": ".py",
   "mimetype": "text/x-python",
   "name": "python",
   "nbconvert_exporter": "python",
   "pygments_lexer": "ipython3",
   "version": "3.8.8"
  }
 },
 "nbformat": 4,
 "nbformat_minor": 5
}
