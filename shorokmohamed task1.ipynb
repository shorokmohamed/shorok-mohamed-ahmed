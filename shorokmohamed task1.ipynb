{
 "cells": [
  {
   "cell_type": "code",
   "execution_count": 1,
   "id": "1f4b9dbf",
   "metadata": {},
   "outputs": [],
   "source": [
    "from pyopenms import*"
   ]
  },
  {
   "cell_type": "code",
   "execution_count": 2,
   "id": "5321b26b",
   "metadata": {},
   "outputs": [],
   "source": [
    "seqen= AASequence.fromString(\"DFPIANGER\")"
   ]
  },
  {
   "cell_type": "code",
   "execution_count": 3,
   "id": "8bea9b11",
   "metadata": {},
   "outputs": [
    {
     "name": "stdout",
     "output_type": "stream",
     "text": [
      "1017.4879641373001\n"
     ]
    }
   ],
   "source": [
    "mwfull=seqen.getMonoWeight()\n",
    "print(mwfull)"
   ]
  },
  {
   "cell_type": "code",
   "execution_count": 4,
   "id": "53f517d8",
   "metadata": {},
   "outputs": [
    {
     "name": "stdout",
     "output_type": "stream",
     "text": [
      "Aspartate : 133.0375092233\n",
      "Phenylalanine : 165.0789793509\n",
      "Proline : 115.06332928709999\n",
      "Isoleucine : 131.0946294147\n",
      "Alanine : 89.0476792233\n",
      "Asparagine : 132.0534932552\n",
      "Glycine : 75.0320291595\n",
      "Glutamate : 147.0531592871\n",
      "Arginine : 174.1116764466\n"
     ]
    }
   ],
   "source": [
    "for i in seqen:\n",
    "    print(i.getName(),\":\",i.getMonoWeight())"
   ]
  },
  {
   "cell_type": "code",
   "execution_count": 5,
   "id": "270ec88f",
   "metadata": {},
   "outputs": [
    {
     "name": "stdout",
     "output_type": "stream",
     "text": [
      "1161.5724846476999\n"
     ]
    }
   ],
   "source": [
    "mass=0\n",
    "for n in seqen:\n",
    "    mass=mass+n.getMonoWeight()\n",
    "print(mass)    "
   ]
  }
 ],
 "metadata": {
  "kernelspec": {
   "display_name": "Python 3",
   "language": "python",
   "name": "python3"
  },
  "language_info": {
   "codemirror_mode": {
    "name": "ipython",
    "version": 3
   },
   "file_extension": ".py",
   "mimetype": "text/x-python",
   "name": "python",
   "nbconvert_exporter": "python",
   "pygments_lexer": "ipython3",
   "version": "3.8.8"
  }
 },
 "nbformat": 4,
 "nbformat_minor": 5
}
